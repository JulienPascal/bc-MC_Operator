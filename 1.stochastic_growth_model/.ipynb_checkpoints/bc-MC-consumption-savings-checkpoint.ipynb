{
 "cells": [
  {
   "cell_type": "markdown",
   "metadata": {},
   "source": [
    "# bc-MC consumption-savings problem"
   ]
  },
  {
   "cell_type": "markdown",
   "metadata": {},
   "source": [
    "# The model\n",
    "\n",
    "We consider the following consumption-saving problem, similar to the model in Maliar et al (2021):\n",
    "\n",
    "$$\n",
    "\\begin{gather*}\n",
    "\\underset{\\left\\{ c_{t},w_{t+1}\\right\\}_{t=0}^{\\infty }}{\\max }E_{0}\\left[\n",
    "\\sum_{t=0}^{\\infty }\\exp (\\delta_{t})\\beta ^{t}u\\left( {c_{t}}\\right)\\right]  \\\\\n",
    "\\text{s.t. }w_{t+1}=\\left( w_{t}-c_{t}\\right) \\overline{r}\\exp (r_{t+1})+\\exp\n",
    "(y_{t+1}), \\\\\n",
    "c_{t} \\leq w_{t} + b,\n",
    "\\end{gather*}\n",
    "$$\n",
    "\n",
    "\n",
    "where $c_{t}$ is consumption; $w_{t}$ is the beginning-of-period\n",
    "cash-on-hand; $\\beta \\in \\left[ 0,1\\right)$ is a subjective discount\n",
    "factor;  $\\overline{r}\\in \\left( 0,\\frac{1}{\\beta }\\right)$ is a (gross)\n",
    "constant interest rate; and initial condition $\\left( z,w\\right)$ is given.\n",
    "There is an occasionally binding inequality constraint: consumption $c_{t}$\n",
    "**CAN** exceed cash-on-hand $w_{t}$, because of borrowing. There are four different exogenous\n",
    "state variables, namely, shocks to the interest rate $r_{t}$, discount factor $\\delta_t$,\n",
    "transitory component of income $q_{t}$ and permanent\n",
    "component of income $p_{t}$. The total income is $y_{t}=\\exp(p_{t})\\exp(q_{t})$. All\n",
    "exogenous variables  follow AR(1) processes: \n",
    "\n",
    "\n",
    "$$\n",
    "\\begin{eqnarray*}\n",
    "{q_{t+1}} &=&\\rho_{q}{q_{t}}+\\sigma_{q}\\epsilon^{q}_{t+1}, \\\\\n",
    "{p_{t+1}} &=&\\rho_{p}{p_{t}}+\\sigma_{p}\\epsilon^{p}_{t+1}, \\\\\n",
    "{r_{t+1}} &=&\\rho_{r}{r_{t}}+\\sigma_{r}\\epsilon^{r}_{t+1}, \\\\\n",
    "{\\delta_{t+1}} &=&\\rho_{\\delta }{\\delta_{t}}+\\sigma_{\\delta }\\epsilon^{\\delta}_{t+1},\n",
    "\\end{eqnarray*}\n",
    "$$\n",
    "\n",
    "\n",
    "where $\\epsilon^i_t \\sim \\mathcal{N}\\left( 0,1\\right)$. We assume the Cobb-Douglas utility function $u\\left( {c_{t}}\\right) =\\frac{1}{1-\\gamma }\\left( c_{t}^{1-\\gamma }-1\\right)$."
   ]
  },
  {
   "cell_type": "markdown",
   "metadata": {},
   "source": [
    "## Euler equation of the model\n",
    "\n",
    "Expectation is with respect to 4 shocks: $\\varepsilon = (q, p, r, \\delta)$\n",
    "\n",
    "\n",
    "$$\n",
    "\\begin{gather*}\n",
    "\\max\\Big( \\beta \\overline{r}E_{\\epsilon }\\left[ \\frac{u^{\\prime }\\left(\n",
    "c^{\\prime }\\right) }{u^{\\prime }(c)}\\exp \\left(   \\delta ^{\\prime }-\\delta\n",
    "+r^{\\prime }\\right)  \\right], \\frac{u'(w + b)}{u'(c)} \\Big) - 1 = 0\n",
    "\\end{gather*}\n",
    "$$\n",
    "\n",
    "Unit less measure of accuracy:\n",
    "\n",
    "$$\n",
    "\\begin{gather*}\n",
    "1 - \\frac{1}{c} (u^{\\prime})^{-1} \\Big[\\max \\Big( \\beta \\overline{r}E_{\\epsilon }\\left[ u^{\\prime }\\left(\n",
    "c^{\\prime }\\right) \\exp \\left( \\delta ^{\\prime }-\\delta\n",
    "+r^{\\prime }\\right), u^{\\prime}(w + b) \\Big) \\right] = 0\n",
    "\\end{gather*}\n",
    "$$\n",
    "\n",
    "## ANN formulation\n",
    "\n",
    "The solution to this dynamic programming problems is characterized by the following Kuhn-Tucker conditions:\n",
    "\n",
    "\\begin{equation}\\label{eq:KT_BC}\n",
    "\\begin{split}\n",
    "A \\geq 0, H \\geq 0, AH = 0 \\\\\n",
    "A \\equiv w - c\\\\\n",
    "H \\equiv u'(c) - \\beta \\bar{r} E_{\\varepsilon} \\Big[u'(c')\\exp(\\delta' + \\delta - r')\\Big]\n",
    "\\end{split}\n",
    "\\end{equation}\n",
    "\n",
    "The loss function for the ANN is:\n",
    "\n",
    "\\begin{equation}\n",
    "\\begin{split}\n",
    "    \\mathcal{L}(\\theta) & =  \\mu_1 E_{s}\\Big[  \\Big(  E_{\\varepsilon}\\Big[\\beta \\bar{r} \\frac{u'(c(s'|\\theta))}{u(c(s|\\theta))}\\exp(\\delta' + \\delta - r') - h(s|\\theta) \\Big] \\Big)^2 \\Big] \\\\\n",
    "    & + \\mu_2 \\Big( E_{s} \\Big[ \\Psi\\Big(1 - \\frac{c(s|\\theta)}{w}, 1 - h(s|\\theta)\\Big)^2 \\Big] \\Big)\n",
    "    \\end{split}\n",
    "\\end{equation}\n",
    "\n",
    "\n",
    "We use the Fischer-Burmeister (FB) function, defined by $\\Psi(a, h) \\equiv a + h - \\sqrt{a^2 + h^2}$. The FB function is such that when it is equal to 0, the Kuhn-Tucker conditions are satisfied: $\\Psi (a, h) = 0 \\Leftrightarrow a \\geq 0, h \\geq 0, ah = 0 $ (see for instance Chen et al, 2000). \n",
    "\n",
    "Using the bc-MC estimator:\n",
    "\n",
    "\\begin{equation}\\label{eq:loss_function_bc_1}\n",
    "\\begin{split}\n",
    "    \\mathcal{L}^U_{M,N}(\\theta) & =  \\mu_1 \\frac{2}{MN(N-1)} \\sum_{m=1}^{M} \\sum_{1 \\leq i < j}^{N}  f(s_m,\\epsilon^i_m|\\theta) f(s_m,\\epsilon^j_m|\\theta) \\\\\n",
    "    & + \\mu_2 \\frac{1}{M} \\sum_{m=1}^{M}   \\Psi\\Big(1 - \\frac{c(s_m|\\theta)}{w_m}, 1 - h(s_m|\\theta)\\Big)^2\n",
    "\\end{split}\n",
    "\\end{equation}\n",
    "\n",
    "with $f(s,\\epsilon|\\theta) \\equiv \\beta \\bar{r} \\frac{u'(c(s'|\\theta))}{u(c(s|\\theta))}\\exp(\\delta' + \\delta - r') - h(s|\\theta) $"
   ]
  },
  {
   "cell_type": "markdown",
   "metadata": {},
   "source": [
    "## Vectorization scheme\n",
    "\n",
    "\n",
    "\n",
    "$$ \\frac{1}{M} \\frac{2}{(N)(N-1)} \\sum_{m=1}^{M} \\sum_{1\\leq i < j}^{n} f(s_m, \\epsilon_{m}^{(i)})f(s_m, \\epsilon_{m}^{(j)})  $$\n",
    "\n",
    "can be vectorized as follows:\n",
    "\n",
    "$$ f' \\Big(I_M \\otimes U_N\\Big). f $$\n",
    "\n",
    "With:\n",
    "\n",
    "- U_N an upper triangular matrix filled with 1, and zeroes on the diagonal $N \\times N$\n",
    "- $I_{M,M}$ the identity matrix $M \\times M$\n",
    "- f a $MN\\times 1$ vector:\n",
    "\n",
    "$$ \\Big(f(s_1, \\varepsilon^{1}_{1}), f(s_1, \\varepsilon^{2}_{1}),  ..., f(s_2, \\varepsilon^{1}_{2}), ... , f(s_m, \\varepsilon^{N}_{m})\\Big)$$\n",
    "\n",
    "## Structure of this notebook\n",
    "\n",
    "### 0. Dependencies\n",
    "### I. Time iteration\n",
    "### II. bc-MC\n",
    "#### II.a. Solve for a given M and N\n",
    "#### II.b. Find optimal M and N"
   ]
  },
  {
   "cell_type": "markdown",
   "metadata": {},
   "source": [
    "# 0. Dependencies \n"
   ]
  },
  {
   "cell_type": "markdown",
   "metadata": {},
   "source": [
    "You can use 'pip' to install dependencies.\n"
   ]
  },
  {
   "cell_type": "code",
   "execution_count": 17,
   "metadata": {},
   "outputs": [],
   "source": [
    "# Magic Commands\n",
    "%matplotlib inline\n",
    "\n",
    "# Built-in Python Libraries\n",
    "import copy\n",
    "import datetime\n",
    "import itertools\n",
    "import os\n",
    "import random\n",
    "import time\n",
    "from math import sqrt\n",
    "\n",
    "# Matplotlib Libraries\n",
    "import matplotlib.pyplot as plt\n",
    "import matplotlib.ticker as mtick\n",
    "\n",
    "# Tensorflow\n",
    "import tensorflow as tf\n",
    "\n",
    "# PyTorch Libraries\n",
    "import torch\n",
    "from torch import nn\n",
    "from torch.utils.data import DataLoader\n",
    "from torchcontrib.optim import SWA\n",
    "\n",
    "# Pandas and Numpy\n",
    "import pandas as pd\n",
    "import numpy as np\n",
    "\n",
    "# Scipy Libraries\n",
    "import scipy.stats\n",
    "from scipy import sparse\n",
    "from scipy.interpolate import griddata\n",
    "from scipy.interpolate import LinearNDInterpolator\n",
    "from scipy.interpolate import RegularGridInterpolator\n",
    "from scipy.stats import norm\n",
    "\n",
    "# Seaborn Libraries\n",
    "import seaborn as sns\n",
    "\n",
    "# tqdm Library\n",
    "from tqdm import tqdm\n",
    "\n",
    "# Numba Libraries\n",
    "from numba import njit, float64\n",
    "from numba.experimental import jitclass\n",
    "\n",
    "# Quantecon Libraries\n",
    "import quantecon as qe\n",
    "from quantecon.optimize import brentq\n",
    "\n",
    "# Other Libraries\n",
    "import chaospy  # for quadrature (expectations)\n",
    "from interpolation import interp\n",
    "\n",
    "from typing import Tuple\n",
    "class Vector: pass"
   ]
  },
  {
   "cell_type": "code",
   "execution_count": 18,
   "metadata": {
    "scrolled": true
   },
   "outputs": [
    {
     "name": "stdout",
     "output_type": "stream",
     "text": [
      "Python 3.8.10\r\n"
     ]
    }
   ],
   "source": [
    "# Display verison of python currently used\n",
    "!python3 --version"
   ]
  },
  {
   "cell_type": "code",
   "execution_count": 19,
   "metadata": {},
   "outputs": [
    {
     "name": "stdout",
     "output_type": "stream",
     "text": [
      "absl-py==1.0.0\r\n",
      "aiodns==3.0.0\r\n",
      "aiohttp==3.8.3\r\n",
      "aiosignal==1.2.0\r\n",
      "alabaster==0.7.8\r\n",
      "altair==5.0.0\r\n",
      "appdirs==1.4.4\r\n",
      "apturl==0.5.2\r\n",
      "argon2-cffi==21.1.0\r\n",
      "arviz==0.15.1\r\n",
      "astunparse==1.6.3\r\n",
      "async-generator==1.10\r\n",
      "async-timeout==4.0.1\r\n",
      "attrs==21.2.0\r\n",
      "Babel==2.6.0\r\n",
      "backcall==0.2.0\r\n",
      "backports.zoneinfo==0.2.1\r\n",
      "bcrypt==3.1.7\r\n",
      "beautifulsoup4==4.8.2\r\n",
      "bleach==4.1.0\r\n",
      "blinker==1.4\r\n",
      "bokeh==2.4.2\r\n",
      "bottle==0.12.19\r\n",
      "branca==0.4.2\r\n",
      "Brlapi==0.7.0\r\n",
      "Brotli==1.0.9\r\n",
      "bs4==0.0.1\r\n",
      "cached-property==1.5.1\r\n",
      "cachetools==4.2.4\r\n",
      "cattrs==1.9.0\r\n",
      "cchardet==2.1.7\r\n",
      "ccsm==0.9.14.1\r\n",
      "certifi==2019.11.28\r\n",
      "cffi==1.15.0\r\n",
      "chaospy==4.3.8\r\n",
      "chardet==3.0.4\r\n",
      "charset-normalizer==2.0.7\r\n",
      "chrome-gnome-shell==0.0.0\r\n",
      "Click==7.0\r\n",
      "click-plugins==1.1.1\r\n",
      "cligj==0.7.2\r\n",
      "cmake==3.21.4\r\n",
      "colorama==0.4.3\r\n",
      "command-not-found==0.3\r\n",
      "compizconfig-python==0.9.14.1\r\n",
      "conan==1.42.1\r\n",
      "contourpy==1.0.7\r\n",
      "corner==2.2.1\r\n",
      "cryptography==2.8\r\n",
      "cupshelpers==1.0\r\n",
      "cycler==0.11.0\r\n",
      "DateTime==4.3\r\n",
      "dblatex===0.3.11py3\r\n",
      "DBnomics==1.2.3\r\n",
      "dbus-python==1.2.16\r\n",
      "debugpy==1.5.1\r\n",
      "decorator==5.1.0\r\n",
      "defer==1.0.6\r\n",
      "defusedxml==0.7.1\r\n",
      "dell-recovery==0.0.0\r\n",
      "deprecat==2.1.1\r\n",
      "descartes==1.1.0\r\n",
      "dill==0.3.6\r\n",
      "distlib==0.3.0\r\n",
      "distro==1.4.0\r\n",
      "distro-info===0.23ubuntu1\r\n",
      "dnspython==1.16.0\r\n",
      "docker==4.1.0\r\n",
      "docker-compose==1.25.0\r\n",
      "dockerpty==0.4.1\r\n",
      "docopt==0.6.2\r\n",
      "docutils==0.16\r\n",
      "dolang==0.0.14\r\n",
      "duplicity==0.8.12.0\r\n",
      "emcee==3.1.4\r\n",
      "entrypoints==0.3\r\n",
      "et-xmlfile==1.1.0\r\n",
      "fastcore==1.3.27\r\n",
      "fasteners==0.14.1\r\n",
      "fastprogress==1.0.0\r\n",
      "fear-and-greed==0.1\r\n",
      "fear-greed-index==0.1.3\r\n",
      "feedparser==5.2.1\r\n",
      "filelock==3.0.12\r\n",
      "Fiona==1.8.21\r\n",
      "fitdecode==0.10.0\r\n",
      "fix-yahoo-finance==0.1.37\r\n",
      "flatbuffers==2.0\r\n",
      "folium==0.12.1.post1\r\n",
      "fonttools==4.39.3\r\n",
      "frozenlist==1.2.0\r\n",
      "future==0.18.2\r\n",
      "gast==0.4.0\r\n",
      "GDAL==3.4.3\r\n",
      "geographiclib==1.52\r\n",
      "geojson==2.5.0\r\n",
      "geopandas==0.10.2\r\n",
      "geopy==2.2.0\r\n",
      "glcontext==2.3.4\r\n",
      "google-auth==2.3.3\r\n",
      "google-auth-oauthlib==0.4.6\r\n",
      "google-pasta==0.2.0\r\n",
      "gpg===1.13.1-unknown\r\n",
      "graphviz==0.20\r\n",
      "greenlet==2.0.2\r\n",
      "grpcio==1.42.0\r\n",
      "guacamole==0.9.2\r\n",
      "gunicorn==20.0.4\r\n",
      "h11==0.13.0\r\n",
      "h5netcdf==1.1.0\r\n",
      "h5py==3.6.0\r\n",
      "haversine==2.5.1\r\n",
      "html5lib==1.0.1\r\n",
      "httplib2==0.14.0\r\n",
      "humanize==3.12.0\r\n",
      "idna==2.8\r\n",
      "imageio==2.16.0\r\n",
      "imagesize==1.2.0\r\n",
      "import-ipynb==0.1.4\r\n",
      "importlib-metadata==1.5.0\r\n",
      "importlib-resources==5.12.0\r\n",
      "interpolation==2.2.1\r\n",
      "ipykernel==6.5.0\r\n",
      "ipynb==0.5.1\r\n",
      "ipython==7.29.0\r\n",
      "ipython-genutils==0.2.0\r\n",
      "ipywidgets==8.0.4\r\n",
      "jedi==0.18.0\r\n",
      "Jinja2==2.10.1\r\n",
      "joblib==1.1.0\r\n",
      "jsonschema==3.2.0\r\n",
      "jupyter-client==7.0.6\r\n",
      "jupyter-core==4.9.1\r\n",
      "jupyterlab-pygments==0.1.2\r\n",
      "jupyterlab-widgets==3.0.5\r\n",
      "kazam==1.4.5\r\n",
      "keras==2.7.0\r\n",
      "Keras-Preprocessing==1.1.2\r\n",
      "keyring==18.0.1\r\n",
      "kiwisolver==1.3.2\r\n",
      "language-selector==0.1\r\n",
      "lark==0.10.1\r\n",
      "lark-parser==0.9.0\r\n",
      "launchpadlib==1.10.13\r\n",
      "lazr.restfulclient==0.14.2\r\n",
      "lazr.uri==1.0.3\r\n",
      "libclang==12.0.0\r\n",
      "llvmlite==0.37.0\r\n",
      "lockfile==0.12.2\r\n",
      "louis==3.12.0\r\n",
      "lxml==4.6.4\r\n",
      "m2r2==0.2.8\r\n",
      "macaroonbakery==1.3.1\r\n",
      "Mako==1.1.0\r\n",
      "Markdown==3.1.1\r\n",
      "MarkupSafe==1.1.0\r\n",
      "matplotlib==3.7.1\r\n",
      "matplotlib-inline==0.1.3\r\n",
      "mistune==0.8.4\r\n",
      "mizani==0.7.3\r\n",
      "moderngl==5.6.4\r\n",
      "monotonic==1.5\r\n",
      "more-itertools==4.2.0\r\n",
      "mplfinance==0.12.7a17\r\n",
      "mpmath==1.2.1\r\n",
      "mpu==0.23.1\r\n",
      "multidict==5.2.0\r\n",
      "multipledispatch==0.6.0\r\n",
      "multitasking==0.0.9\r\n",
      "munch==2.5.0\r\n",
      "mycolorpy==1.5.1\r\n",
      "nbclient==0.5.8\r\n",
      "nbconvert==6.3.0\r\n",
      "nbformat==5.1.3\r\n",
      "nest-asyncio==1.5.1\r\n",
      "netifaces==0.10.4\r\n",
      "networkx==3.0\r\n",
      "node-semver==0.6.1\r\n",
      "notebook==6.4.5\r\n",
      "numba==0.54.1\r\n",
      "numpoly==1.2.3\r\n",
      "numpy==1.20.3\r\n",
      "nvidia-cublas-cu11==11.10.3.66\r\n",
      "nvidia-cuda-nvrtc-cu11==11.7.99\r\n",
      "nvidia-cuda-runtime-cu11==11.7.99\r\n",
      "nvidia-cudnn-cu11==8.5.0.96\r\n",
      "oauthlib==3.1.0\r\n",
      "odfpy==1.4.1\r\n",
      "olefile==0.46\r\n",
      "onboard==1.4.1\r\n",
      "openai==0.26.5\r\n",
      "openpyxl==3.0.9\r\n",
      "opt-einsum==3.3.0\r\n",
      "outcome==1.1.0\r\n",
      "OWSLib==0.25.0\r\n",
      "packaging==23.1\r\n",
      "padme==1.1.1\r\n",
      "palettable==3.3.0\r\n",
      "pandas==2.0.1\r\n",
      "pandas-datareader==0.10.0\r\n",
      "pandocfilters==1.5.0\r\n",
      "paramiko==2.6.0\r\n",
      "parso==0.8.2\r\n",
      "patch-ng==1.17.4\r\n",
      "path==16.2.0\r\n",
      "patsy==0.5.2\r\n",
      "pexpect==4.6.0\r\n",
      "pickleshare==0.7.5\r\n",
      "Pillow==8.4.0\r\n",
      "pipreqs==0.4.13\r\n",
      "plotly==5.10.0\r\n",
      "plotnine==0.8.0\r\n",
      "pluginbase==1.0.1\r\n",
      "probscale==0.2.5\r\n",
      "progressbar==2.5\r\n",
      "prometheus-client==0.12.0\r\n",
      "prompt-toolkit==3.0.22\r\n",
      "protobuf==3.19.1\r\n",
      "proton-client==0.7.1\r\n",
      "protonvpn-cli==3.13.0\r\n",
      "protonvpn-gui==1.12.0\r\n",
      "protonvpn-nm-lib==3.14.0\r\n",
      "psutil==5.5.1\r\n",
      "psycopg2==2.9.2\r\n",
      "ptyprocess==0.7.0\r\n",
      "pyasn1==0.4.8\r\n",
      "pyasn1-modules==0.2.8\r\n",
      "pycairo==1.16.2\r\n",
      "pycares==4.3.0\r\n",
      "pycparser==2.21\r\n",
      "pycups==1.9.73\r\n",
      "pycurl==7.43.0.2\r\n",
      "pydot==1.4.2\r\n",
      "Pygments==2.10.0\r\n",
      "PyGObject==3.36.0\r\n",
      "PyJWT==1.7.1\r\n",
      "pymacaroons==0.13.0\r\n",
      "pymc3==3.11.5\r\n",
      "PyNaCl==1.3.0\r\n",
      "pyOpenSSL==19.0.0\r\n",
      "pyparsing==2.4.6\r\n",
      "pyproj==3.3.1\r\n",
      "PyQt5==5.14.1\r\n",
      "pyRFC3339==1.1\r\n",
      "pyrr==0.10.3\r\n",
      "pyrsistent==0.15.5\r\n",
      "pysg==0.1.5\r\n",
      "python-apt==2.0.1+ubuntu0.20.4.1\r\n",
      "python-dateutil==2.8.2\r\n",
      "python-debian==0.1.36+ubuntu1.1\r\n",
      "python-gnupg==0.4.5\r\n",
      "pythondialog==3.4.0\r\n",
      "pytrends==4.7.3\r\n",
      "pytz==2023.3\r\n",
      "pytz-deprecation-shim==0.1.0.post0\r\n",
      "pyxdg==0.26\r\n",
      "PyYAML==5.3.1\r\n",
      "pyzmq==22.3.0\r\n",
      "quantecon==0.4.8\r\n",
      "reportlab==3.5.34\r\n",
      "requests==2.26.0\r\n",
      "requests-cache==0.8.1\r\n",
      "requests-oauthlib==1.3.0\r\n",
      "requests-unixsocket==0.2.0\r\n",
      "retrying==1.3.3\r\n",
      "roman==2.0.0\r\n",
      "rpy2==3.4.5\r\n",
      "rsa==4.8\r\n",
      "sas7bdat==2.2.3\r\n",
      "scikit-build==0.13.1\r\n",
      "scikit-learn==1.0.1\r\n",
      "scipy==1.7.3\r\n",
      "screen-resolution-extra==0.0.0\r\n",
      "seaborn==0.12.2\r\n",
      "SecretStorage==2.3.1\r\n",
      "selenium==4.1.0\r\n",
      "semver==3.0.0\r\n",
      "Send2Trash==1.8.0\r\n",
      "sequence-jacobian==1.0.0\r\n",
      "Shapely==1.8.1.post1\r\n",
      "simplejson==3.16.0\r\n",
      "sip==4.19.21\r\n",
      "six==1.14.0\r\n",
      "sklearn==0.0\r\n",
      "sniffio==1.2.0\r\n",
      "snowballstemmer==2.2.0\r\n",
      "sortedcontainers==2.4.0\r\n",
      "soupsieve==1.9.5\r\n",
      "Sphinx==4.3.1\r\n",
      "sphinx-rtd-theme==0.5.2\r\n",
      "sphinxcontrib-applehelp==1.0.2\r\n",
      "sphinxcontrib-devhelp==1.0.2\r\n",
      "sphinxcontrib-htmlhelp==2.0.0\r\n",
      "sphinxcontrib-jsmath==1.0.1\r\n",
      "sphinxcontrib-qthelp==1.0.3\r\n",
      "sphinxcontrib-serializinghtml==1.1.5\r\n",
      "SQLAlchemy==2.0.11\r\n",
      "statsmodels==0.13.5\r\n",
      "sympy==1.9\r\n",
      "system-service==0.3\r\n",
      "systemd-python==234\r\n",
      "tabulate==0.9.0\r\n",
      "Tasmanian==7.7\r\n",
      "Tempita==0.5.2\r\n",
      "tenacity==8.0.1\r\n",
      "tensorboard==2.7.0\r\n",
      "tensorboard-data-server==0.6.1\r\n",
      "tensorboard-plugin-wit==1.8.0\r\n",
      "tensorflow==2.7.0\r\n",
      "tensorflow-estimator==2.7.0\r\n",
      "tensorflow-io-gcs-filesystem==0.22.0\r\n",
      "termcolor==1.1.0\r\n",
      "terminado==0.12.1\r\n",
      "testpath==0.5.0\r\n",
      "texttable==1.6.2\r\n",
      "Theano-PyMC==1.1.2\r\n",
      "threadpoolctl==3.0.0\r\n",
      "toolz==0.12.0\r\n",
      "torch==1.13.1\r\n",
      "torch-lr-finder==0.2.1\r\n",
      "torchcontrib==0.0.2\r\n",
      "torchdiffeq==0.2.2\r\n",
      "torchmetrics==0.10.2\r\n",
      "torchvision==0.14.1\r\n",
      "torchviz==0.0.2\r\n",
      "tornado==6.1\r\n",
      "tqdm==4.62.3\r\n",
      "traitlets==5.1.1\r\n",
      "trio==0.19.0\r\n",
      "trio-websocket==0.9.2\r\n",
      "typing-extensions==4.5.0\r\n",
      "tzdata==2023.3\r\n",
      "tzlocal==4.1\r\n",
      "ubuntu-advantage-tools==8001\r\n",
      "ubuntu-drivers-common==0.0.0\r\n",
      "ufw==0.36\r\n",
      "unattended-upgrades==0.1\r\n",
      "unity-scope-calculator==0.1\r\n",
      "unity-scope-devhelp==0.1\r\n",
      "unity-scope-gdrive==0.7\r\n",
      "unity-scope-manpages==0.1\r\n",
      "unity-scope-texdoc==0.1\r\n",
      "unity-scope-tomboy==0.1\r\n",
      "unity-scope-virtualbox==0.1\r\n",
      "unity-scope-zotero==0.1\r\n",
      "url-normalize==1.4.3\r\n",
      "urllib3==1.26.7\r\n",
      "usb-creator==0.3.7\r\n",
      "v==0.0.0\r\n",
      "vboxapi==1.0\r\n",
      "virtualenv==20.0.17\r\n",
      "wadllib==1.3.3\r\n",
      "wcwidth==0.2.5\r\n",
      "webencodings==0.5.1\r\n",
      "websocket-client==0.53.0\r\n",
      "Werkzeug==2.0.2\r\n",
      "wget==3.2\r\n",
      "widgetsnbextension==4.0.5\r\n",
      "wordcloud==1.8.1\r\n",
      "wrapt==1.13.3\r\n",
      "wsproto==1.0.0\r\n",
      "xarray==2023.1.0\r\n",
      "xarray-einstats==0.5.1\r\n",
      "xdiagnose==3.8.9\r\n",
      "xkit==0.0.0\r\n",
      "XlsxWriter==1.1.2\r\n",
      "yarg==0.1.9\r\n",
      "yarl==1.7.2\r\n",
      "yfinance==0.1.64\r\n",
      "zipp==3.15.0\r\n"
     ]
    }
   ],
   "source": [
    "# Display which version of packages I am using\n",
    "!pip freeze > requirements.txt\n",
    "!cat requirements.txt"
   ]
  },
  {
   "cell_type": "code",
   "execution_count": 20,
   "metadata": {},
   "outputs": [
    {
     "name": "stdout",
     "output_type": "stream",
     "text": [
      "Using cpu device\n"
     ]
    }
   ],
   "source": [
    "# Import functions from a notebook\n",
    "%run functions-bc-MC-consumption-savings.ipynb\n",
    "# Set default figsize\n",
    "plot_scale = 1.25\n",
    "plt.rcParams[\"figure.figsize\"] = (plot_scale*16, plot_scale*9)\n",
    "# Controlling fontsizes\n",
    "SMALL_SIZE = 12\n",
    "MEDIUM_SIZE = SMALL_SIZE + 2\n",
    "BIGGER_SIZE =  SMALL_SIZE + 4\n",
    "plt.rcParams['legend.fontsize'] = MEDIUM_SIZE\n",
    "dpi_chosen=150 #control the quality of .png\n",
    "linewidth_chosen = 2\n",
    "save_to_csv = True\n",
    "read_from_csv = False"
   ]
  },
  {
   "cell_type": "code",
   "execution_count": 21,
   "metadata": {},
   "outputs": [
    {
     "name": "stdout",
     "output_type": "stream",
     "text": [
      "0.9664535356921388\n"
     ]
    }
   ],
   "source": [
    "seed_number = 1234\n",
    "random.seed(seed_number) # For replicability reasons\n",
    "print(random.random()) "
   ]
  },
  {
   "cell_type": "code",
   "execution_count": 22,
   "metadata": {},
   "outputs": [],
   "source": [
    "current_wd = os.getcwd() \n",
    "output_folder = current_wd  + \"/output/\"\n",
    "# Create folder if does not exist:\n",
    "if not os.path.exists(output_folder):\n",
    "    # If it doesn't exist, create it\n",
    "    os.makedirs(output_folder)"
   ]
  },
  {
   "cell_type": "code",
   "execution_count": 23,
   "metadata": {},
   "outputs": [],
   "source": [
    "# Store parameters\n",
    "class MyParams():\n",
    "    \"\"\"\n",
    "    M: number of draws for the state variable\n",
    "    N: number of draws for shocks\n",
    "    lr: learning rate\n",
    "    pre_train_model: whether or not pre-train the model before starting the full training loop (not used)\n",
    "    nb_epochs: number of gradient descent steps during training\n",
    "    bc: borrowing constraint \n",
    "    order_gauss: order for the Gaussian quadrature to use when solving with time iteration\n",
    "    σ_shocks: parameter determining the variance of shocks\n",
    "    use_Sobol: whether or not use Sobol sampling for the state space\n",
    "    optimizer: what type of optimizer to use when training neural network\n",
    "    w1: weight on the first element of the loss function\n",
    "    w2: weight on the second element in the loss function\n",
    "    \"\"\"\n",
    "    def __init__(self, N, M, lr, pre_train_model, \n",
    "                 nb_epochs, bc, order_gauss, σ_shocks, use_Sobol, optimizer,\n",
    "                 w1, w2):\n",
    "        # savings-consumption with binding constraint\n",
    "        # Model parameters\n",
    "        self.β = 0.9 \n",
    "        self.γ = 2.0\n",
    "        self.one_min_γ = 1 - self.γ\n",
    "        self.σ_shocks = 0.01 #\n",
    "        self.σ_r = σ_shocks #\n",
    "        self.ρ_r = 0.9 #\n",
    "        self.σ_p = self.σ_shocks\n",
    "        self.ρ_p = 0.9 #\n",
    "        self.σ_q = self.σ_shocks\n",
    "        self.ρ_q = 0.9\n",
    "        self.σ_δ = self.σ_shocks\n",
    "        self.ρ_δ = 0.9 #0.2\n",
    "        self.rbar = 1.04\n",
    "        # Level of borrowing constraint\n",
    "        self.bc = bc\n",
    "        self.bc_torch = torch.tensor([bc])\n",
    "        # Standard deviations for ergodic distributions of exogenous state variables\n",
    "        self.σ_e_r = self.σ_r/(1-self.ρ_r**2)**0.5\n",
    "        self.σ_e_p = self.σ_p/(1-self.ρ_p**2)**0.5\n",
    "        self.σ_e_q = self.σ_q/(1-self.ρ_q**2)**0.5\n",
    "        self.σ_e_δ = self.σ_δ/(1-self.ρ_δ**2)**0.5\n",
    "        # grids\n",
    "        self.n_points_grid = 3 #nb points for (r,p,q δ)\n",
    "        self.n_points_w = 10 #nb points for w\n",
    "        self.r_min = -2*self.σ_e_r \n",
    "        self.r_max = 2*self.σ_e_r \n",
    "        self.p_min = -2*self.σ_e_p\n",
    "        self.p_max = 2*self.σ_e_p \n",
    "        self.q_min = -2*self.σ_e_q \n",
    "        self.q_max = 2*self.σ_e_q \n",
    "        self.δ_min = -2*self.σ_e_δ\n",
    "        self.δ_max = 2*self.σ_e_δ\n",
    "        # bounds for endogenous state variable (cash-in-hand)\n",
    "        self.wmin = 0.1\n",
    "        self.wmax = 4.0\n",
    "        self.r_grid = np.linspace(self.r_min, self.r_max, self.n_points_grid)\n",
    "        self.p_grid = np.linspace(self.p_min, self.p_max, self.n_points_grid)\n",
    "        self.q_grid = np.linspace(self.q_min, self.q_max, self.n_points_grid)\n",
    "        self.δ_grid = np.linspace(self.δ_min, self.δ_max, self.n_points_grid)\n",
    "        self.w_grid = np.linspace(self.wmin, self.wmax, self.n_points_w)\n",
    "        self.wrpqδ_grid = list(itertools.product(self.w_grid, self.r_grid, self.p_grid, self.q_grid, self.δ_grid)) #Cartesian product\n",
    "        # Functions\n",
    "        self.u = lambda c: (1/self.one_min_γ)*(c**(self.one_min_γ) - 1)\n",
    "        self.u_prime =  lambda c: c**(-self.γ)\n",
    "        self.u_prime_inv =  lambda c: c**(-(1/self.γ))\n",
    "        # Standard shocks\n",
    "        σ_e = 0.5 #\n",
    "        μ_e = 0.0 #location parameter shocks\n",
    "        # Values passed as inputs\n",
    "        self.N = N #number of draws inside expectation\n",
    "        self.M = M #number of draws outside expecation\n",
    "        self.MN = int(M*N)\n",
    "        # To keep constant the number of function evaluations\n",
    "        self.T = int((M*N)/2) #number of draws all in on expectation\n",
    "        # To compare Loss functions\n",
    "        #self.T = int((M*N)) #number of draws all in on expectation\n",
    "        self.x_distribution = \"Uniform\" #\"Normal\" #Uniform or Normal\n",
    "        self.σ_e = σ_e\n",
    "        self.μ_e = μ_e\n",
    "        self.e_distribution = \"Lognormal\" #\"Normal\"\n",
    "        self.x_low = self.wmin\n",
    "        self.x_high = self.wmax\n",
    "        # Vectorized Monte Carlo requires the creation of some objects\n",
    "        # To repeat vectors\n",
    "        repeat_vector = torch.ones(N) #to repeat the same value n times using a matrix multiplication\n",
    "        # To calculate the expectation wrt future shocks using a matrix multiplication\n",
    "        A = sparse.eye(M) \n",
    "        B = sparse.csr_matrix(np.ones(N)/N)\n",
    "        # Sparse kronecker product. Then convert to pytorch sparse\n",
    "        # W used using the sum((sum)^2) formula\n",
    "        W = sparse_mx_to_torch_sparse_tensor(sparse.kron(A, B))\n",
    "        self.repeat_vector = repeat_vector\n",
    "        self.W = W  \n",
    "        # W used using the 2/N(N-1) sum() formula\n",
    "        self.W_expanded = create_W_expanded_matrix(self.M, self.N)\n",
    "        # Learning parameters\n",
    "        self.lr = lr\n",
    "        self.lr_pre_train = 1e-3 #learning rate during pre-training\n",
    "        self.optimizer = optimizer #\"Adam\" #default: #Adam or SGD or SWA\n",
    "        self.freq_gamma = 0.95 #0.85\n",
    "        self.use_scheduler = False #default: True\n",
    "        self.pre_train_model = pre_train_model #default: True\n",
    "        self.nb_epochs = nb_epochs\n",
    "        self.nb_epochs_pre_train = int(self.nb_epochs/1)\n",
    "        self.freq_scheduler = 1000 #int(self.nb_epochs/10)\n",
    "        # Sobol sampling\n",
    "        self.soboleng = torch.quasirandom.SobolEngine(dimension=1) #sobol draws for income\n",
    "        self.use_Sobol = use_Sobol #Sobol for dimension M\n",
    "        self.use_Sobol_T = use_Sobol #Sobol for all-in-one\n",
    "        # DEBUG PARAMS\n",
    "        self.error_correction=True #error correction for the model\n",
    "        self.selective_error_correction=False #error correction for the model, only if give positive values\n",
    "        self.abs_value=False\n",
    "        self.perfect_forecast = False\n",
    "        self.fake_bias=0.0\n",
    "        # GAUSSIAN QUADRATURE\n",
    "        # value e_r, e_δ, e_p, e_q\n",
    "        self.distrib = chaospy.J(chaospy.Normal(0, self.σ_r), chaospy.Normal(0, self.σ_δ), chaospy.Normal(0, self.σ_p), chaospy.Normal(0, self.σ_q))\n",
    "        #self.distrib = chaospy.LogNormal(μ_e, σ_e)\n",
    "        self.order_gauss = order_gauss\n",
    "        nodes, weights = dist(self.order_gauss, self.distrib, rule = \"gaussian\", sp=True)\n",
    "        self.nodes = nodes\n",
    "        self.weights = weights\n",
    "        self.weights_torch = torch.tensor(weights)\n",
    "        self.nodes_torch = torch.tensor(np.transpose(self.nodes)) #column=dim. Row=observation\n",
    "        # Save the number of points for the guassian quadrature:\n",
    "        self.N_gaussian = len(self.weights_torch)\n",
    "        # Implied number of points for the current space (T=MN/2 <-> M = 2T/N)\n",
    "        self.M_gaussian = int((2*self.T)/self.N_gaussian)\n",
    "        self.MN_gaussian = self.N_gaussian*self.M_gaussian\n",
    "        # Repeat nodes to match the number of function evaluations for the expectation\n",
    "        self.nodes_torch_repeated = self.nodes_torch.repeat(self.M_gaussian, 1)\n",
    "        # CREATE A W MATRIX FOR GAUSSIAN QUADRATURE:\n",
    "        B_gaussian = sparse.csr_matrix(self.weights_torch)\n",
    "        # Sparse kronecker product. Then convert to pytorch sparse\n",
    "        A_gaussian = sparse.eye(self.M_gaussian) \n",
    "        self.W_gaussian = sparse_mx_to_torch_sparse_tensor(sparse.kron(A_gaussian, B_gaussian))\n",
    "        # SCALE OF THE OBJECTIVE FUNCTION\n",
    "        self.nb_points_test = 1000\n",
    "        self.xvec_test_torch = torch.linspace(self.x_low, self.x_high, self.nb_points_test).unsqueeze(1) #add a dimension\n",
    "        self.xvec_test = self.xvec_test_torch.numpy()\n",
    "        self.swa_start = 1000\n",
    "        self.swa_freq= 10\n",
    "        # To measure accuracy during training\n",
    "        self.M_accuracy = 5000 #10000\n",
    "        self.N_accuracy = 100\n",
    "        self.MN_accuracy = int(self.M_accuracy*self.N_accuracy)\n",
    "        self.repeat_vector_accuracy = torch.ones(self.N_accuracy)\n",
    "        # Sparse version        \n",
    "        A = sparse.eye(self.M_accuracy)\n",
    "        B = sparse.csr_matrix(np.ones(self.N_accuracy)/self.N_accuracy)\n",
    "        # Sparse kronecker product. Then convert to pytorch sparse\n",
    "        self.W_accuracy = sparse_mx_to_torch_sparse_tensor(sparse.kron(A, B))\n",
    "        # randomly drawing current states\n",
    "        self.r_accuracy = torch.normal(mean=0, std=self.σ_e_r, size=(self.M_accuracy,)) \n",
    "        self.δ_accuracy = torch.normal(mean=0, std=self.σ_e_δ, size=(self.M_accuracy,)) \n",
    "        self.p_accuracy = torch.normal(mean=0, std=self.σ_e_p, size=(self.M_accuracy,)) \n",
    "        self.q_accuracy = torch.normal(mean=0, std=self.σ_e_q, size=(self.M_accuracy,))\n",
    "        #w = (params.wmin - params.wmax) * torch.rand(n) + params.wmax #uniform\n",
    "        w = (self.wmin - self.wmax) * self.soboleng.draw(self.M_accuracy) + self.wmax #uniform\n",
    "        self.w_accuracy = w.squeeze(1)\n",
    "        # n_Monte_Carlo for each value today\n",
    "        self.e_r_accuracy = torch.normal(mean=0, std=self.σ_r, size=(self.MN_accuracy,)) \n",
    "        self.e_δ_accuracy = torch.normal(mean=0, std=self.σ_δ, size=(self.MN_accuracy,)) \n",
    "        self.e_p_accuracy = torch.normal(mean=0, std=self.σ_p, size=(self.MN_accuracy,)) \n",
    "        self.e_q_accuracy = torch.normal(mean=0, std=self.σ_q, size=(self.MN_accuracy,)) \n",
    "        #\n",
    "        self.r_repeated_accuracy = torch.kron(self.r_accuracy, self.repeat_vector_accuracy)\n",
    "        self.δ_repeated_accuracy = torch.kron(self.δ_accuracy, self.repeat_vector_accuracy)\n",
    "        self.q_repeated_accuracy = torch.kron(self.q_accuracy, self.repeat_vector_accuracy)\n",
    "        self.p_repeated_accuracy = torch.kron(self.p_accuracy, self.repeat_vector_accuracy)\n",
    "        self.w_repeated_accuracy = torch.kron(self.w_accuracy, self.repeat_vector_accuracy)\n",
    "        # transitions of the exogenous processes\n",
    "        #r = torch.normal(mean=0, std=σ_e_r, size=(n,)) \n",
    "        #torch.kron(r, repeat_vector).shape\n",
    "        self.rnext_accuracy = self.r_repeated_accuracy*self.ρ_r + self.e_r_accuracy\n",
    "        self.δnext_accuracy = self.δ_repeated_accuracy*self.ρ_δ + self.e_δ_accuracy\n",
    "        self.pnext_accuracy = self.p_repeated_accuracy*self.ρ_p + self.e_p_accuracy\n",
    "        self.qnext_accuracy = self.q_repeated_accuracy*self.ρ_q + self.e_q_accuracy\n",
    "        # To store the solution of time iteration\n",
    "        self.c_grid_TI = np.zeros((self.n_points_grid, self.n_points_grid, self.n_points_grid, self.n_points_grid, self.n_points_w)) #solution TI on grid\n",
    "        c_function_TI = lambda x: interp(params.r_grid, params.p_grid, params.q_grid, params.δ_grid, params.w_grid, σ, x)\n",
    "        self.c_function_TI = c_function_TI #TI solution, interpolated\n",
    "        self.ss = np.ones(5) #steady-state value\n",
    "        # weight mu1 and mu2\n",
    "        self.w1 = w1\n",
    "        self.w2 = w2\n",
    "        # Check bad combination\n",
    "        if (self.optimizer == \"SWA\") & (self.use_scheduler == True):\n",
    "            raise('opt SWA and use_schedule = True')"
   ]
  },
  {
   "cell_type": "code",
   "execution_count": 24,
   "metadata": {
    "scrolled": false
   },
   "outputs": [
    {
     "name": "stdout",
     "output_type": "stream",
     "text": [
      "learning rate: 0.001\n",
      "nb epochs: 10000\n",
      "W.shape: torch.Size([100, 200])\n",
      "W_expanded.shape: torch.Size([200, 200])\n",
      "M: 100\n",
      "N: 2\n",
      "MN: 200\n",
      "T: 100\n",
      "T: False\n",
      "Number nodes Gaussian Q: (4, 9)\n",
      "W Gaussian shape: torch.Size([22, 198])\n",
      "N Gaussian: 9\n",
      "M Gaussian: 22\n",
      "MN Gaussian: 198\n",
      "Budget constraint: 0.0\n",
      "σ_shocks: 0.01\n",
      "use_Sobol: False\n",
      "optimizer_chosen: Adam\n",
      "use_scheduler: False\n",
      "w1: 0.5\n",
      "w2: 0.5\n"
     ]
    }
   ],
   "source": [
    "M_chosen = 100 #25 #100 #200 # 50 #outer expectation \n",
    "N_chosen = 2 #8 #2 #4 # Inner expectation\n",
    "lr_chosen = 1e-3 #0.5e-2\n",
    "pre_train_model_chosen = False\n",
    "nb_epochs_chosen = 10000\n",
    "order_gauss = 1 #Default. order_gauss = 2\n",
    "bc_chosen = 0.0 #0.0 #1.0\n",
    "σ_shocks_chosen = 0.01\n",
    "use_Sobol_chosen = False\n",
    "optimizer_chosen = \"Adam\"\n",
    "w1_chosen = 0.5\n",
    "w2_chosen = 0.5\n",
    "\n",
    "params = MyParams(N_chosen, M_chosen, lr_chosen, pre_train_model_chosen, \n",
    "                  nb_epochs_chosen, bc_chosen, order_gauss,\n",
    "                  σ_shocks_chosen, use_Sobol_chosen, optimizer_chosen,\n",
    "                 w1_chosen, w2_chosen)\n",
    "\n",
    "show_params(params)"
   ]
  },
  {
   "cell_type": "markdown",
   "metadata": {},
   "source": [
    "\n"
   ]
  },
  {
   "cell_type": "markdown",
   "metadata": {},
   "source": [
    "---\n",
    "---\n",
    "\n",
    "# I. Time iteration solution"
   ]
  },
  {
   "cell_type": "markdown",
   "metadata": {},
   "source": [
    "Find the decision function $c(w_t, y_t, p_t, r_t, \\delta_t)$ using standard Time Iteration algorithm"
   ]
  },
  {
   "cell_type": "code",
   "execution_count": 25,
   "metadata": {},
   "outputs": [],
   "source": [
    "# Initial guess for time iteration\n",
    "σ = np.zeros((params.n_points_grid, params.n_points_grid, params.n_points_grid, params.n_points_grid, params.n_points_w))\n",
    "        \n",
    "for (r_index, r_value) in enumerate(params.r_grid):\n",
    "    for (p_index, p_value) in enumerate(params.p_grid):\n",
    "        for (q_index, q_value) in enumerate(params.q_grid):\n",
    "            for (δ_index, δ_value) in enumerate(params.δ_grid):\n",
    "                for (w_index, w_value) in enumerate(params.w_grid):\n",
    "                    σ[r_index, p_index, q_index, δ_index, w_index] = 0.9*w_value\n",
    "\n",
    "# Turn σ into a function via interpolation\n",
    "σ_func = lambda x: interp(params.r_grid, params.p_grid, params.q_grid, params.δ_grid, params.w_grid, σ, x)"
   ]
  },
  {
   "cell_type": "code",
   "execution_count": 26,
   "metadata": {},
   "outputs": [
    {
     "name": "stdout",
     "output_type": "stream",
     "text": [
      "Error at iteration 1 is 1.207615755519393.\n",
      "Error at iteration 2 is 0.4198695660081688.\n",
      "Error at iteration 3 is 0.20986490611535613.\n",
      "Error at iteration 4 is 0.12285918278317753.\n",
      "Error at iteration 5 is 0.07993755718531226.\n",
      "Error at iteration 6 is 0.05513435604249306.\n",
      "Error at iteration 7 is 0.03925138773392334.\n",
      "Error at iteration 8 is 0.028438010082956433.\n",
      "Error at iteration 9 is 0.020784475148705628.\n",
      "Error at iteration 10 is 0.015230006111857985.\n",
      "Error at iteration 11 is 0.01113818111902698.\n",
      "Error at iteration 12 is 0.008103307108144886.\n",
      "Error at iteration 13 is 0.0058515507179304205.\n",
      "Error at iteration 14 is 0.004187807678883271.\n",
      "Error at iteration 15 is 0.002967528827212851.\n",
      "Error at iteration 16 is 0.0020811064799979295.\n",
      "Error at iteration 17 is 0.0014442184370717648.\n",
      "Error at iteration 18 is 0.0009919105707840714.\n",
      "Error at iteration 19 is 0.0006744785459742442.\n",
      "Error at iteration 20 is 0.0004542957524207303.\n",
      "Error at iteration 21 is 0.00030327921114259304.\n",
      "Error at iteration 22 is 0.00020079774445114218.\n",
      "Error at iteration 23 is 0.00013193849943138325.\n",
      "Error at iteration 24 is 8.609141177329249e-05.\n",
      "Convergence reached after 24 iterations\n"
     ]
    }
   ],
   "source": [
    "# Solve the model by time iteration and Gaussian quadrature\n",
    "tol_chosen = 1e-4\n",
    "max_iter_chosen = 100\n",
    "verbose_chosen = True\n",
    "print_skip_chosen = 1\n",
    "do_plot_chosen = False\n",
    "\n",
    "solve_model_time_iter_quadrature(params, σ, σ_func, \n",
    "                                 tol_chosen, max_iter_chosen, \n",
    "                                 verbose_chosen, print_skip_chosen, do_plot_chosen)"
   ]
  },
  {
   "cell_type": "code",
   "execution_count": 27,
   "metadata": {
    "scrolled": false
   },
   "outputs": [
    {
     "data": {
      "text/plain": [
       "<matplotlib.legend.Legend at 0x7fd11f1fa490>"
      ]
     },
     "execution_count": 27,
     "metadata": {},
     "output_type": "execute_result"
    },
    {
     "data": {
      "image/png": "[encoded data removed]",
      "text/plain": [
       "<Figure size 1440x810 with 1 Axes>"
      ]
     },
     "metadata": {
      "needs_background": "light"
     },
     "output_type": "display_data"
    }
   ],
   "source": [
    "# Plot the result\n",
    "len_wec = params.nb_points_test\n",
    "\n",
    "with torch.no_grad():\n",
    "    rvec = np.zeros(len_wec)\n",
    "    pvec = np.zeros(len_wec)\n",
    "    qvec = np.zeros(len_wec)\n",
    "    δvec = np.zeros(len_wec)\n",
    "    wvec = params.xvec_test\n",
    "    state_next = np.column_stack((rvec, pvec, qvec, δvec, wvec))\n",
    "    cvec_TI = params.c_function_TI(state_next) #σ_func(state_next)\n",
    "    # Save for latter use\n",
    "    cvec_TI_bc_0 = cvec_TI.copy()\n",
    "    k_next_TI = wvec.squeeze(1) - cvec_TI\n",
    "\n",
    "plt.plot(wvec, wvec, linestyle='--', color='black')\n",
    "plt.plot(wvec, cvec_TI, label='c TI')\n",
    "plt.plot(wvec, k_next_TI, label='kt+1 TI')\n",
    "plt.xlabel(\"$w_t$\")\n",
    "plt.ylabel(\"$c_t$\")\n",
    "plt.title(\"Solution Time Iteration\")\n",
    "plt.legend()"
   ]
  },
  {
   "cell_type": "markdown",
   "metadata": {},
   "source": [
    "### Accuracy Time Iteration solution\n",
    "\n",
    "Uses Monte Carlo Integration to approximate the expectation with respect to next period's shocks."
   ]
  },
  {
   "cell_type": "code",
   "execution_count": 28,
   "metadata": {
    "scrolled": true
   },
   "outputs": [
    {
     "name": "stdout",
     "output_type": "stream",
     "text": [
      "Euler TI\n",
      "Mean: 0.0069799041205842885\n",
      "Median: 0.0025804167715107185\n",
      "Min: 4.748312854019332e-11\n",
      "Max: 0.12405530137395526\n",
      "std dev.: 0.013610617936933904\n",
      "\n",
      "Euler Bis TI\n",
      "Mean: 0.003577983965429618\n",
      "Median: 0.001292380156549533\n",
      "Min: 2.374156427009666e-11\n",
      "Max: 0.06846833435337052\n",
      "std dev.: 0.007151530360860949\n"
     ]
    }
   ],
   "source": [
    "# Evaluate accuracy \n",
    "euler, euler_bis, c, c_RHS, w = evaluate_accuracy_TI_MC(10000, 100, params)\n",
    "\n",
    "print(\"Euler TI\")\n",
    "print(\"Mean: {}\".format(np.mean(np.abs(euler))))\n",
    "print(\"Median: {}\".format(np.median(np.abs(euler))))\n",
    "print(\"Min: {}\".format(np.min(np.abs(euler))))\n",
    "print(\"Max: {}\".format(np.max(np.abs(euler))))\n",
    "print(\"std dev.: {}\".format(np.std(np.abs(euler))))\n",
    "\n",
    "# Should take the mean of the absolute value\n",
    "print(\"\\nEuler Bis TI\")\n",
    "print(\"Mean: {}\".format(np.mean(np.abs(euler_bis))))\n",
    "print(\"Median: {}\".format(np.median(np.abs(euler_bis))))\n",
    "print(\"Min: {}\".format(np.min(np.abs(euler_bis))))\n",
    "print(\"Max: {}\".format(np.max(np.abs(euler_bis))))\n",
    "print(\"std dev.: {}\".format(np.std(np.abs(euler_bis))))\n"
   ]
  },
  {
   "cell_type": "markdown",
   "metadata": {},
   "source": [
    "---\n",
    "\n",
    "\n",
    "# II. BC-MC Operator\n",
    "\n",
    "\n",
    "## II.A. Solve for a given M and N\n"
   ]
  },
  {
   "cell_type": "code",
   "execution_count": 29,
   "metadata": {},
   "outputs": [
    {
     "name": "stdout",
     "output_type": "stream",
     "text": [
      "Using cpu device\n",
      "NeuralNetwork(\n",
      "  (flatten): Flatten(start_dim=1, end_dim=-1)\n",
      "  (linear_relu_stack): Sequential(\n",
      "    (0): Linear(in_features=5, out_features=32, bias=True)\n",
      "    (1): ReLU()\n",
      "    (2): Linear(in_features=32, out_features=32, bias=True)\n",
      "    (3): ReLU()\n",
      "    (4): Linear(in_features=32, out_features=2, bias=True)\n",
      "  )\n",
      ")\n"
     ]
    }
   ],
   "source": [
    "# Get cpu or gpu device for training.\n",
    "device = \"cuda\" if torch.cuda.is_available() else \"cpu\"\n",
    "print(f\"Using {device} device\")\n",
    "\n",
    "# Define model\n",
    "class NeuralNetwork(nn.Module):\n",
    "    \"\"\"\n",
    "    Output share of cash-on-hand consumed, and lagrange multiplier\n",
    "    \"\"\"\n",
    "    def __init__(self):\n",
    "        super(NeuralNetwork, self).__init__()\n",
    "        self.flatten = nn.Flatten()\n",
    "        self.linear_relu_stack = nn.Sequential(\n",
    "            nn.Linear(5, 32),\n",
    "            nn.ReLU(),\n",
    "            nn.Linear(32, 32),\n",
    "            nn.ReLU(),\n",
    "            nn.Linear(32, 2)\n",
    "        )\n",
    "\n",
    "    def forward(self, x):\n",
    "        y = self.linear_relu_stack(x)\n",
    "        return y\n",
    "\n",
    "model_MC = NeuralNetwork().to(device)\n",
    "print(model_MC)"
   ]
  },
  {
   "cell_type": "code",
   "execution_count": 30,
   "metadata": {
    "scrolled": true
   },
   "outputs": [
    {
     "data": {
      "text/plain": [
       "<matplotlib.legend.Legend at 0x7fd11f2de910>"
      ]
     },
     "execution_count": 30,
     "metadata": {},
     "output_type": "execute_result"
    },
    {
     "data": {
      "image/png": "[encoded data removed]",
      "text/plain": [
       "<Figure size 1440x810 with 1 Axes>"
      ]
     },
     "metadata": {
      "needs_background": "light"
     },
     "output_type": "display_data"
    }
   ],
   "source": [
    "# Plot initial guess\n",
    "model_MC.eval()\n",
    "\n",
    "# Define the grid\n",
    "nb_points = 100\n",
    "with torch.no_grad():\n",
    "    wvec_eval = torch.linspace(params.wmin, params.wmax, nb_points)\n",
    "    rvec_eval = 0*torch.ones(nb_points) #torch.linspace(grid.σ_e_r_min, grid.σ_e_r_max, nb_points) #torch.zeros(nb_points)\n",
    "    pvec_eval = 0*torch.ones(nb_points) #torch.zeros(nb_points)\n",
    "    qvec_eval = 0*torch.ones(nb_points) #torch.zeros(nb_points)\n",
    "    δvec_eval = 0*torch.ones(nb_points) #torch.zeros(nb_points)\n",
    "\n",
    "    # To store vaules\n",
    "    ζvec = torch.zeros(nb_points)\n",
    "    hvec = torch.zeros(nb_points)\n",
    "    cvec = torch.zeros(nb_points)\n",
    "\n",
    "    cvec, hvec = model_normalized(model_MC, rvec_eval, pvec_eval, qvec_eval, δvec_eval, wvec_eval, params)\n",
    "\n",
    "plt.title(\"Multidimensional Consumption-Savings (decision rule)\")\n",
    "plt.plot(wvec_eval, wvec_eval, linestyle='--', color='black')\n",
    "plt.plot(wvec_eval.detach().numpy(), cvec.detach().numpy(), label=\"bc-MC\")\n",
    "plt.xlabel(\"$w_t$\")\n",
    "plt.ylabel(\"$c_t$\")\n",
    "plt.legend()"
   ]
  },
  {
   "cell_type": "code",
   "execution_count": 31,
   "metadata": {},
   "outputs": [
    {
     "data": {
      "text/plain": [
       "<matplotlib.legend.Legend at 0x7fd11f416a90>"
      ]
     },
     "execution_count": 31,
     "metadata": {},
     "output_type": "execute_result"
    },
    {
     "data": {
      "image/png": "[encoded data removed]",
      "text/plain": [
       "<Figure size 1440x810 with 1 Axes>"
      ]
     },
     "metadata": {
      "needs_background": "light"
     },
     "output_type": "display_data"
    }
   ],
   "source": [
    "plt.title(\"Lagrange multiplier (decision rule)\")\n",
    "plt.plot(wvec_eval, wvec_eval, linestyle='--', color='black')\n",
    "plt.plot(wvec_eval.detach().numpy(), hvec.detach().numpy(), label=\"bc-MC\")\n",
    "plt.xlabel(\"$w_t$\")\n",
    "plt.ylabel(\"$h_t$\")\n",
    "plt.legend()"
   ]
  },
  {
   "cell_type": "code",
   "execution_count": 32,
   "metadata": {
    "scrolled": true
   },
   "outputs": [
    {
     "name": "stdout",
     "output_type": "stream",
     "text": [
      "tensor(0.0530)\n"
     ]
    }
   ],
   "source": [
    "# Check loss function for the untrained network\n",
    "with torch.no_grad():\n",
    "    v = Ξ_torch_MC(model_MC, params)\n",
    "print(v)"
   ]
  },
  {
   "cell_type": "code",
   "execution_count": 33,
   "metadata": {
    "scrolled": true
   },
   "outputs": [
    {
     "name": "stderr",
     "output_type": "stream",
     "text": [
      "  0%|                                         | 1/10000 [00:00<24:02,  6.93it/s]"
     ]
    },
    {
     "name": "stdout",
     "output_type": "stream",
     "text": [
      "loss: 0.046373, median euler error 0.047864, [    0/10000]\n"
     ]
    },
    {
     "name": "stderr",
     "output_type": "stream",
     "text": [
      " 10%|███▊                                 | 1022/10000 [00:07<01:05, 137.07it/s]"
     ]
    },
    {
     "name": "stdout",
     "output_type": "stream",
     "text": [
      "loss: 0.000732, median euler error 0.007116, [ 1000/10000]\n"
     ]
    },
    {
     "name": "stderr",
     "output_type": "stream",
     "text": [
      " 20%|███████▋                              | 2013/10000 [00:15<01:21, 97.79it/s]"
     ]
    },
    {
     "name": "stdout",
     "output_type": "stream",
     "text": [
      "loss: 0.000304, median euler error 0.004376, [ 2000/10000]\n"
     ]
    },
    {
     "name": "stderr",
     "output_type": "stream",
     "text": [
      " 30%|███████████▏                         | 3021/10000 [00:24<01:05, 106.21it/s]"
     ]
    },
    {
     "name": "stdout",
     "output_type": "stream",
     "text": [
      "loss: 0.000238, median euler error 0.003627, [ 3000/10000]\n"
     ]
    },
    {
     "name": "stderr",
     "output_type": "stream",
     "text": [
      " 40%|██████████████▊                      | 4020/10000 [00:36<00:48, 123.35it/s]"
     ]
    },
    {
     "name": "stdout",
     "output_type": "stream",
     "text": [
      "loss: 0.000186, median euler error 0.003311, [ 4000/10000]\n"
     ]
    },
    {
     "name": "stderr",
     "output_type": "stream",
     "text": [
      " 50%|███████████████████                   | 5015/10000 [00:47<04:58, 16.68it/s]"
     ]
    },
    {
     "name": "stdout",
     "output_type": "stream",
     "text": [
      "loss: 0.000162, median euler error 0.003027, [ 5000/10000]\n"
     ]
    },
    {
     "name": "stderr",
     "output_type": "stream",
     "text": [
      " 60%|██████████████████████▉               | 6020/10000 [01:02<00:48, 82.12it/s]"
     ]
    },
    {
     "name": "stdout",
     "output_type": "stream",
     "text": [
      "loss: 0.000139, median euler error 0.002849, [ 6000/10000]\n"
     ]
    },
    {
     "name": "stderr",
     "output_type": "stream",
     "text": [
      " 70%|██████████████████████████▋           | 7026/10000 [01:12<00:31, 95.02it/s]"
     ]
    },
    {
     "name": "stdout",
     "output_type": "stream",
     "text": [
      "loss: 0.000163, median euler error 0.002566, [ 7000/10000]\n"
     ]
    },
    {
     "name": "stderr",
     "output_type": "stream",
     "text": [
      " 80%|█████████████████████████████▋       | 8030/10000 [01:21<00:13, 148.43it/s]"
     ]
    },
    {
     "name": "stdout",
     "output_type": "stream",
     "text": [
      "loss: 0.000028, median euler error 0.002697, [ 8000/10000]\n"
     ]
    },
    {
     "name": "stderr",
     "output_type": "stream",
     "text": [
      " 90%|█████████████████████████████████▍   | 9035/10000 [01:29<00:07, 135.68it/s]"
     ]
    },
    {
     "name": "stdout",
     "output_type": "stream",
     "text": [
      "loss: 0.000108, median euler error 0.002773, [ 9000/10000]\n"
     ]
    },
    {
     "name": "stderr",
     "output_type": "stream",
     "text": [
      "100%|████████████████████████████████████| 10000/10000 [01:35<00:00, 104.25it/s]\n"
     ]
    }
   ],
   "source": [
    "np.random.seed(seed_number)\n",
    "torch.manual_seed(seed_number)\n",
    "\n",
    "model_MC.train()\n",
    "\n",
    "if params.optimizer == \"Adam\":\n",
    "    optimizer = torch.optim.Adam(model_MC.parameters(), lr=params.lr, eps=1e-07, betas=(0.9, 0.999)) \n",
    "elif params.optimizer == \"SGD\":\n",
    "    optimizer = torch.optim.SGD(model_MC.parameters(), params.lr)\n",
    "elif params.optimizer == \"SWA\":\n",
    "    base_opt = torch.optim.Adam(model_MC.parameters(), lr=params.lr, eps=1e-07, betas=(0.9, 0.999)) \n",
    "    optimizer = SWA(base_opt, swa_start=params.swa_start, swa_freq=params.swa_freq, swa_lr=params.lr)\n",
    "else:\n",
    "    raise(\"optimizer unknown\")\n",
    "\n",
    "scheduler = torch.optim.lr_scheduler.ExponentialLR(optimizer, gamma=params.freq_gamma)\n",
    "\n",
    "loss_epochs_MC = torch.zeros(params.nb_epochs)\n",
    "list_MC_gradient = [] #store the norm of the gradient\n",
    "list_perc_abs_error_MC = [] #store median abs value percentage error\n",
    "list_perc_abs_error_MC_mean = [] #mean\n",
    "list_perc_abs_error_MC_max = [] #max\n",
    "list_perc_abs_error_MC_std = [] #std\n",
    "list_perc_abs_error_MC_i = [] #store index i\n",
    "list_perc_abs_error_MC_loss = [] #store loss\n",
    "\n",
    "for i in tqdm(range(0, params.nb_epochs)):\n",
    "    loss = Ξ_torch_MC(model_MC, params)\n",
    "    loss_epochs_MC[[i]] = float(loss.item())\n",
    "\n",
    "    # Backpropagation\n",
    "    optimizer.zero_grad()\n",
    "    loss.backward()\n",
    "    optimizer.step()\n",
    "    \n",
    "    if i % 100 == 0: #Monitor the gradient\n",
    "        model_MC.eval()\n",
    "        # Evaluate accuracy \n",
    "        with torch.no_grad():\n",
    "            euler, euler_bis, c, c_RHS, w = evaluate_accuracy_pytorch_MC_frozen(model_MC, params)\n",
    "        list_perc_abs_error_MC.append(np.median(euler_bis))\n",
    "        list_perc_abs_error_MC_mean.append(np.mean(euler_bis))\n",
    "        list_perc_abs_error_MC_max.append(np.max(euler_bis))\n",
    "        list_perc_abs_error_MC_std.append(np.std(euler_bis))\n",
    "        list_perc_abs_error_MC_i.append(i)\n",
    "        list_perc_abs_error_MC_loss.append(float(loss.item()))\n",
    "        model_MC.train()\n",
    "    if i % 1000 == 0:\n",
    "        loss, current = float(loss.item()), i\n",
    "        print(f\"loss: {loss:>7f}, median euler error {list_perc_abs_error_MC[-1]:>7f}, [{current:>5d}/{params.nb_epochs:>5d}]\")\n",
    "    if (i % params.freq_scheduler == 0) & (i != 0) & (params.use_scheduler == True):\n",
    "        scheduler.step()\n",
    "        print(\"i : {}. Decreasing learning rate: {}\".format(i, scheduler.get_last_lr()))\n",
    "\n",
    "if params.optimizer == \"SWA\":\n",
    "    optimizer.swap_swa_sgd()\n"
   ]
  },
  {
   "cell_type": "code",
   "execution_count": 34,
   "metadata": {},
   "outputs": [
    {
     "data": {
      "text/plain": [
       "<matplotlib.legend.Legend at 0x7fd11f16a700>"
      ]
     },
     "execution_count": 34,
     "metadata": {},
     "output_type": "execute_result"
    },
    {
     "data": {
      "image/png": "[encoded data removed]",
      "text/plain": [
       "<Figure size 1440x810 with 1 Axes>"
      ]
     },
     "metadata": {
      "needs_background": "light"
     },
     "output_type": "display_data"
    }
   ],
   "source": [
    "plt.plot(np.sqrt(np.abs(loss_epochs_MC)), label=\"MC\", alpha=0.5)\n",
    "plt.xscale('log')\n",
    "plt.yscale('log')\n",
    "plt.grid()\n",
    "plt.legend()"
   ]
  },
  {
   "cell_type": "code",
   "execution_count": 35,
   "metadata": {
    "scrolled": false
   },
   "outputs": [
    {
     "data": {
      "text/plain": [
       "<matplotlib.legend.Legend at 0x7fd11eef7e80>"
      ]
     },
     "execution_count": 35,
     "metadata": {},
     "output_type": "execute_result"
    },
    {
     "data": {
      "image/png": "[encoded data removed]",
      "text/plain": [
       "<Figure size 1440x810 with 1 Axes>"
      ]
     },
     "metadata": {
      "needs_background": "light"
     },
     "output_type": "display_data"
    }
   ],
   "source": [
    "# Test approximation\n",
    "model_MC.eval()\n",
    "\n",
    "# Define the grid\n",
    "nb_points = 100\n",
    "with torch.no_grad():\n",
    "    wvec_eval = torch.linspace(params.wmin, params.wmax, nb_points)\n",
    "    rvec_eval = 0*torch.ones(nb_points) #torch.linspace(grid.σ_e_r_min, grid.σ_e_r_max, nb_points) #torch.zeros(nb_points)\n",
    "    pvec_eval = 0*torch.ones(nb_points) #torch.zeros(nb_points)\n",
    "    qvec_eval = 0*torch.ones(nb_points) #torch.zeros(nb_points)\n",
    "    δvec_eval = 0*torch.ones(nb_points) #torch.zeros(nb_points)\n",
    "\n",
    "    # To store vaules\n",
    "    ζvec = torch.zeros(nb_points)\n",
    "    hvec = torch.zeros(nb_points)\n",
    "    cvec = torch.zeros(nb_points)\n",
    "\n",
    "    cvec_MC, hvec_MC = model_normalized(model_MC, rvec_eval, pvec_eval, qvec_eval, δvec_eval, wvec_eval, params)\n",
    "    # Save for latter use\n",
    "    cvec_MC_bc_0, hvec_MC_bc_0 = cvec_MC.detach().numpy(), hvec_MC.detach().numpy()\n",
    "\n",
    "plt.title(\"Multidimensional Consumption-Savings (decision rule)\")\n",
    "plt.plot(wvec_eval, wvec_eval, linestyle='--', color='black')\n",
    "plt.plot(wvec_eval.detach().numpy(), cvec_MC.detach().numpy(), label=\"c(w) bc-MC\")\n",
    "plt.plot(wvec, cvec_TI, label='c(w) TI')\n",
    "plt.xlabel(\"$w_t$\")\n",
    "plt.ylabel(\"$c_t$\")\n",
    "plt.legend()"
   ]
  },
  {
   "cell_type": "markdown",
   "metadata": {},
   "source": [
    "### Accuracy"
   ]
  },
  {
   "cell_type": "code",
   "execution_count": 36,
   "metadata": {
    "scrolled": true
   },
   "outputs": [
    {
     "name": "stdout",
     "output_type": "stream",
     "text": [
      "Euler MC\n",
      "Mean: 0.00787762738764286\n",
      "Median: 0.004605114459991455\n",
      "Min: 5.960464477539062e-07\n",
      "Max: 0.13632911443710327\n",
      "std dev.: 0.012129531241953373\n",
      "\n",
      "Euler Bis MC\n",
      "Mean: 0.004003908019512892\n",
      "Median: 0.002302885055541992\n",
      "Min: 3.5762786865234375e-07\n",
      "Max: 0.07603371143341064\n",
      "std dev.: 0.006370455492287874\n",
      "CPU times: user 1.92 s, sys: 407 ms, total: 2.32 s\n",
      "Wall time: 305 ms\n"
     ]
    }
   ],
   "source": [
    "%%time \n",
    "model_MC.eval()\n",
    "\n",
    "# Evaluate accuracy \n",
    "euler, euler_bis, c, c_RHS, w = evaluate_accuracy_pytorch_MC(model_MC, 10000, 100, params)\n",
    "#euler, euler_bis, c, c_RHS, w = evaluate_accuracy_pytorch_MC_frozen(model_MC, params)\n",
    "\n",
    "print(\"Euler MC\")\n",
    "print(\"Mean: {}\".format(np.mean(np.abs(euler))))\n",
    "print(\"Median: {}\".format(np.median(np.abs(euler))))\n",
    "print(\"Min: {}\".format(np.min(np.abs(euler))))\n",
    "print(\"Max: {}\".format(np.max(np.abs(euler))))\n",
    "print(\"std dev.: {}\".format(np.std(np.abs(euler))))\n",
    "\n",
    "# Should take the mean of the absolute value\n",
    "print(\"\\nEuler Bis MC\")\n",
    "print(\"Mean: {}\".format(np.mean(np.abs(euler_bis))))\n",
    "print(\"Median: {}\".format(np.median(np.abs(euler_bis))))\n",
    "print(\"Min: {}\".format(np.min(np.abs(euler_bis))))\n",
    "print(\"Max: {}\".format(np.max(np.abs(euler_bis))))\n",
    "print(\"std dev.: {}\".format(np.std(np.abs(euler_bis))))\n"
   ]
  },
  {
   "cell_type": "code",
   "execution_count": 37,
   "metadata": {
    "scrolled": false
   },
   "outputs": [
    {
     "data": {
      "image/png": "[encoded data removed]",
      "text/plain": [
       "<Figure size 1440x810 with 3 Axes>"
      ]
     },
     "metadata": {
      "needs_background": "light"
     },
     "output_type": "display_data"
    }
   ],
   "source": [
    "plot_scale = 1.25\n",
    "rate=1\n",
    "last_N_values = 2\n",
    "plt.rcParams[\"figure.figsize\"] = (plot_scale*16, plot_scale*9)\n",
    "fig, (ax1, ax2, ax3) = plt.subplots(1, 3)\n",
    "\n",
    "\n",
    "rate = 1\n",
    "#fig.suptitle('Horizontally stacked subplots')\n",
    "ax1.plot(pd.Series(np.sqrt( np.abs(loss_epochs_MC))).rolling(rate).mean(), label=\"Monte Carlo, M={}, N={}\".format(params.M, params.N), alpha=0.5)\n",
    "ax1.set_xscale('log')\n",
    "ax1.set_yscale('log')\n",
    "ax1.set_ylabel('Square root loss function')\n",
    "ax1.set_xlabel('Iterations')\n",
    "ax1.set_title('Loss function')\n",
    "ax1.legend()\n",
    "\n",
    "\n",
    "rate = 100\n",
    "#fig.suptitle('Horizontally stacked subplots')\n",
    "ax2.plot(pd.Series(np.sqrt( np.abs(loss_epochs_MC))).rolling(rate).mean(), label=\"Monte Carlo, M={}, N={}\".format(params.M, params.N), alpha=0.5)\n",
    "ax2.set_xscale('log')\n",
    "ax2.set_yscale('log')\n",
    "ax2.set_ylabel('Square root loss function (moving average)')\n",
    "ax2.set_xlabel('Iterations')\n",
    "ax2.set_title('Moving average loss function')\n",
    "ax2.legend()\n",
    "\n",
    "ax3.plot(list_perc_abs_error_MC_i, list_perc_abs_error_MC, label=\"Monte Carlo, M={}, N={}\".format(params.M, params.N))\n",
    "ax3.set_xscale('log')\n",
    "ax3.set_yscale('log')\n",
    "ax3.set_ylabel('Euler equation error Ec')\n",
    "ax3.set_xlabel('Iterations')\n",
    "ax3.set_title('Median Euler equation error')\n",
    "ax3.legend()\n",
    "\n",
    "#plt.suptitle(\"Loss function and absol\".format(params.σ_e), fontsize=14)\n",
    "figname = output_folder + 'summmary_MC_bc.png'\n",
    "plt.savefig(figname)\n",
    "plt.show()"
   ]
  },
  {
   "cell_type": "code",
   "execution_count": 38,
   "metadata": {
    "scrolled": true
   },
   "outputs": [
    {
     "data": {
      "text/plain": [
       "<matplotlib.legend.Legend at 0x7fd11eb15b20>"
      ]
     },
     "execution_count": 38,
     "metadata": {},
     "output_type": "execute_result"
    },
    {
     "data": {
      "image/png": "[encoded data removed]",
      "text/plain": [
       "<Figure size 1440x810 with 1 Axes>"
      ]
     },
     "metadata": {
      "needs_background": "light"
     },
     "output_type": "display_data"
    }
   ],
   "source": [
    "# Test approximation\n",
    "model_MC.eval()\n",
    "\n",
    "# Define the grid\n",
    "nb_points = 100\n",
    "with torch.no_grad():\n",
    "    wvec_eval = torch.linspace(params.wmin, params.wmax, nb_points)\n",
    "    #wvec_eval = torch.linspace(0.8, 1.2, nb_points)\n",
    "    rvec_eval = 0*torch.ones(nb_points) #torch.linspace(grid.σ_e_r_min, grid.σ_e_r_max, nb_points) #torch.zeros(nb_points)\n",
    "    pvec_eval = 0*torch.ones(nb_points) #torch.zeros(nb_points)\n",
    "    qvec_eval = 0*torch.ones(nb_points) #torch.zeros(nb_points)\n",
    "    δvec_eval = 0*torch.ones(nb_points) #torch.zeros(nb_points)\n",
    "\n",
    "    # To store vaules\n",
    "    ζvec = torch.zeros(nb_points)\n",
    "    hvec = torch.zeros(nb_points)\n",
    "    cvec = torch.zeros(nb_points)\n",
    "\n",
    "    cvec_MC, hvec_MC = model_normalized(model_MC, rvec_eval, pvec_eval, qvec_eval, δvec_eval, wvec_eval, params)\n",
    "\n",
    "\n",
    "plt.title(\"Multidimensional Consumption-Savings (decision rule)\")\n",
    "plt.plot(wvec_eval, wvec_eval, linestyle='--', color='black')\n",
    "plt.plot(wvec_eval.detach().numpy(), cvec_MC.detach().numpy(), label=\"MC\", linestyle='dotted')\n",
    "plt.xlabel(\"$w_t$\")\n",
    "plt.ylabel(\"$c_t$\")\n",
    "plt.legend()"
   ]
  },
  {
   "cell_type": "markdown",
   "metadata": {},
   "source": [
    "---\n",
    "---\n",
    "\n",
    "## II.B. Optimal choices for hyperparameters M and N"
   ]
  },
  {
   "cell_type": "code",
   "execution_count": 157,
   "metadata": {
    "scrolled": true
   },
   "outputs": [
    {
     "name": "stdout",
     "output_type": "stream",
     "text": [
      "CPU times: user 1.72 s, sys: 4.09 ms, total: 1.72 s\n",
      "Wall time: 184 ms\n"
     ]
    }
   ],
   "source": [
    "%%time\n",
    "nb_draws_loss = 20000\n",
    "model=initial_model\n",
    "model.eval() #eval mode\n",
    "with torch.no_grad():\n",
    "    # randomly drawing current states    \n",
    "    r = torch.normal(mean=0, std=params.σ_e_r, size=(nb_draws_loss,)) \n",
    "    δ = torch.normal(mean=0, std=params.σ_e_δ, size=(nb_draws_loss,)) \n",
    "    p = torch.normal(mean=0, std=params.σ_e_p, size=(nb_draws_loss,)) \n",
    "    q = torch.normal(mean=0, std=params.σ_e_q, size=(nb_draws_loss,))\n",
    "    if params.use_Sobol_T == False:\n",
    "        w = (params.wmin - params.wmax) * torch.rand(nb_draws_loss) + params.wmax #uniform\n",
    "    else:\n",
    "    #Very slow if T is large\n",
    "        w = (params.wmin - params.wmax) * params.soboleng.draw(nb_draws_loss) + params.wmax #uniform\n",
    "        w = w.squeeze(1)\n",
    "\n",
    "    # randomly drawing 1st realization for shocks    \n",
    "    e1_r = torch.normal(mean=0, std=params.σ_r, size=(nb_draws_loss,)) \n",
    "    e1_δ = torch.normal(mean=0, std=params.σ_δ, size=(nb_draws_loss,)) \n",
    "    e1_p = torch.normal(mean=0, std=params.σ_p, size=(nb_draws_loss,)) \n",
    "    e1_q = torch.normal(mean=0, std=params.σ_q, size=(nb_draws_loss,)) \n",
    "\n",
    "    # randomly drawing 2nd realization for shocks\n",
    "    e2_r = torch.normal(mean=0, std=params.σ_r, size=(nb_draws_loss,)) \n",
    "    e2_δ = torch.normal(mean=0, std=params.σ_δ, size=(nb_draws_loss,)) \n",
    "    e2_p = torch.normal(mean=0, std=params.σ_p, size=(nb_draws_loss,)) \n",
    "    e2_q = torch.normal(mean=0, std=params.σ_q, size=(nb_draws_loss,)) \n",
    "\n",
    "    # randomly drawing 2nd realization for shocks\n",
    "    e3_r = torch.normal(mean=0, std=params.σ_r, size=(nb_draws_loss,)) \n",
    "    e3_δ = torch.normal(mean=0, std=params.σ_δ, size=(nb_draws_loss,)) \n",
    "    e3_p = torch.normal(mean=0, std=params.σ_p, size=(nb_draws_loss,)) \n",
    "    e3_q = torch.normal(mean=0, std=params.σ_q, size=(nb_draws_loss,)) \n",
    "\n",
    "    # randomly drawing 2nd realization for shocks\n",
    "    e4_r = torch.normal(mean=0, std=params.σ_r, size=(nb_draws_loss,)) \n",
    "    e4_δ = torch.normal(mean=0, std=params.σ_δ, size=(nb_draws_loss,)) \n",
    "    e4_p = torch.normal(mean=0, std=params.σ_p, size=(nb_draws_loss,)) \n",
    "    e4_q = torch.normal(mean=0, std=params.σ_q, size=(nb_draws_loss,)) \n",
    "\n",
    "    # residuals for n random grid points under 4 realizations of shocks\n",
    "    # (model, e_r: Vector, e_δ: Vector, e_p: Vector, e_q: Vector, r: Vector, δ: Vector, q: Vector, pp: Vector, w: Vector, params)\n",
    "    R1_e1, R2_e1 = Residuals_torch(model, e1_r, e1_δ, e1_p, e1_q, r, δ, q, p, w, params)\n",
    "    R1_e2, R2_e2 = Residuals_torch(model, e2_r, e2_δ, e2_p, e2_q, r, δ, q, p, w, params)\n",
    "    R1_e3, R2_e3 = Residuals_torch(model, e3_r, e3_δ, e3_p, e3_q, r, δ, q, p, w, params)\n",
    "    R1_e4, R2_e4 = Residuals_torch(model, e4_r, e4_δ, e4_p, e4_q, r, δ, q, p, w, params)\n",
    "\n",
    "    # Combine two errors?\n",
    "    R_e1 = R1_e1 + R2_e1\n",
    "    R_e2 = R1_e2 + R2_e2 \n",
    "    R_e3 = R1_e3 + R2_e3 \n",
    "    R_e4 = R1_e4 + R2_e4 \n",
    "    \n",
    "    # R1 and R2 are independent\n",
    "    #first_line = torch.var(R1_e1*R1_e2) + torch.var(R2_e1*R2_e2) \n",
    "    #second_line = torch.cov(torch.column_stack((R1_e1*R1_e2, R1_e1*R1_e3)).T)[0,1] + torch.cov(torch.column_stack((R2_e1*R2_e2, R2_e1*R2_e3)).T)[0,1]\n",
    "    #third_line = torch.cov(torch.column_stack((R1_e1*R1_e2, R1_e3*R1_e4)).T)[0,1] + torch.cov(torch.column_stack((R2_e1*R2_e2, R2_e3*R2_e4)).T)[0,1]\n",
    "    \n",
    "    first_line = torch.var(R_e1*R_e2) # + torch.var(R2_e1*R2_e2) \n",
    "    second_line = torch.cov(torch.column_stack((R_e1*R_e2, R_e1*R_e3)).T)[0,1] #+ torch.cov(torch.column_stack((R2_e1*R2_e2, R2_e1*R2_e3)).T)[0,1]\n",
    "    third_line = torch.cov(torch.column_stack((R_e1*R_e2, R_e3*R_e4)).T)[0,1] #+ torch.cov(torch.column_stack((R2_e1*R2_e2, R2_e3*R2_e4)).T)[0,1]\n",
    "    \n",
    "    grid_N_t = torch.tensor(grid_N)\n",
    "    grid_M_t = torch.tensor(grid_M)\n",
    "    \n",
    "    var_loss = ((params.w1)**2)*(1/(params.T*(grid_N_t - 1)))*(first_line + 2*(grid_N_t - 2)*second_line + 2*((grid_N_t*(grid_N_t - 1)/4 - grid_N_t + 3/2))*third_line)"
   ]
  },
  {
   "cell_type": "code",
   "execution_count": 96,
   "metadata": {},
   "outputs": [
    {
     "data": {
      "text/plain": [
       "tensor([[0.0516, 0.0818],\n",
       "        [0.0818, 0.2677]])"
      ]
     },
     "execution_count": 96,
     "metadata": {},
     "output_type": "execute_result"
    }
   ],
   "source": [
    "torch.cov(torch.column_stack((R1_e1*R1_e2, R2_e1*R2_e2)).T)"
   ]
  },
  {
   "cell_type": "code",
   "execution_count": 158,
   "metadata": {},
   "outputs": [
    {
     "data": {
      "text/plain": [
       "tensor([0.2218, 0.1109, 0.0887, 0.0444, 0.0222, 0.0177, 0.0089, 0.0044])"
      ]
     },
     "execution_count": 158,
     "metadata": {},
     "output_type": "execute_result"
    }
   ],
   "source": [
    "torch.flip(var_loss,  dims=(0,))"
   ]
  },
  {
   "cell_type": "code",
   "execution_count": 159,
   "metadata": {},
   "outputs": [
    {
     "data": {
      "text/plain": [
       "0    0.062125\n",
       "1    0.031074\n",
       "2    0.025947\n",
       "3    0.012796\n",
       "4    0.006310\n",
       "5    0.005050\n",
       "6    0.002566\n",
       "7    0.001263\n",
       "Name: P50_var_loss, dtype: float64"
      ]
     },
     "execution_count": 159,
     "metadata": {},
     "output_type": "execute_result"
    }
   ],
   "source": [
    "df_variance_loss_median['P50_var_loss']"
   ]
  },
  {
   "cell_type": "markdown",
   "metadata": {},
   "source": [
    "### Monte Carlo estimator: optimal choice of M and N\n",
    "\n"
   ]
  },
  {
   "cell_type": "code",
   "execution_count": 72,
   "metadata": {},
   "outputs": [
    {
     "name": "stdout",
     "output_type": "stream",
     "text": [
      "Grid for N: [  2   4   8  10  20  40  50 100]\n",
      "Grid for M: [100.  50.  25.  20.  10.   5.   4.   2.]\n",
      "M*N: [200. 200. 200. 200. 200. 200. 200. 200.]\n"
     ]
    }
   ],
   "source": [
    "T = (params.M*params.N)/2 #Fix a total budget (number of times f is called when calculating the loss)\n",
    "\n",
    "grid_N = np.array([N for N in range(2, params.T+2, 2)]) #Grid for N\n",
    "grid_M = 2*T/grid_N #Grid for M\n",
    "\n",
    "is_int = grid_M % 1 == 0\n",
    "grid_N = grid_N[is_int]\n",
    "grid_M = grid_M[is_int]\n",
    "\n",
    "print(f\"Grid for N: {grid_N}\")\n",
    "print(f\"Grid for M: {grid_M}\")\n",
    "print(f\"M*N: {grid_N*grid_M}\") # sanity check"
   ]
  },
  {
   "cell_type": "markdown",
   "metadata": {},
   "source": [
    "#### Variance of the loss after x iterations"
   ]
  },
  {
   "cell_type": "code",
   "execution_count": 73,
   "metadata": {
    "scrolled": true
   },
   "outputs": [
    {
     "name": "stdout",
     "output_type": "stream",
     "text": [
      "Norm chosen: 2.0\n",
      "Rep 0 / 10. Training a model for 0 Iterations\n",
      "Rep 0 / 10. Calculting variance loss for 500 Iterations\n",
      "Rep 0 / 10. Calculting variance norm gradient for 500 Iterations\n",
      "Rep 1 / 10. Training a model for 0 Iterations\n",
      "Rep 1 / 10. Calculting variance loss for 500 Iterations\n",
      "Rep 1 / 10. Calculting variance norm gradient for 500 Iterations\n",
      "Rep 2 / 10. Training a model for 0 Iterations\n",
      "Rep 2 / 10. Calculting variance loss for 500 Iterations\n",
      "Rep 2 / 10. Calculting variance norm gradient for 500 Iterations\n",
      "Rep 3 / 10. Training a model for 0 Iterations\n",
      "Rep 3 / 10. Calculting variance loss for 500 Iterations\n",
      "Rep 3 / 10. Calculting variance norm gradient for 500 Iterations\n",
      "Rep 4 / 10. Training a model for 0 Iterations\n",
      "Rep 4 / 10. Calculting variance loss for 500 Iterations\n",
      "Rep 4 / 10. Calculting variance norm gradient for 500 Iterations\n",
      "Rep 5 / 10. Training a model for 0 Iterations\n",
      "Rep 5 / 10. Calculting variance loss for 500 Iterations\n",
      "Rep 5 / 10. Calculting variance norm gradient for 500 Iterations\n",
      "Rep 6 / 10. Training a model for 0 Iterations\n",
      "Rep 6 / 10. Calculting variance loss for 500 Iterations\n",
      "Rep 6 / 10. Calculting variance norm gradient for 500 Iterations\n",
      "Rep 7 / 10. Training a model for 0 Iterations\n",
      "Rep 7 / 10. Calculting variance loss for 500 Iterations\n",
      "Rep 7 / 10. Calculting variance norm gradient for 500 Iterations\n",
      "Rep 8 / 10. Training a model for 0 Iterations\n",
      "Rep 8 / 10. Calculting variance loss for 500 Iterations\n",
      "Rep 8 / 10. Calculting variance norm gradient for 500 Iterations\n",
      "Rep 9 / 10. Training a model for 0 Iterations\n",
      "Rep 9 / 10. Calculting variance loss for 500 Iterations\n",
      "Rep 9 / 10. Calculting variance norm gradient for 500 Iterations\n",
      "CPU times: user 1h 11min 3s, sys: 20.7 s, total: 1h 11min 23s\n",
      "Wall time: 8min 3s\n"
     ]
    }
   ],
   "source": [
    "%%time\n",
    "# params, nb_epoch_opt_M_N, nb_rep, nb_draws_loss, list_M, list_N\n",
    "nb_iter_model = 0 #number iterations before calculating the gradient\n",
    "nb_replications_model = 10 #number of replications of the procedure\n",
    "nb_draws_var = 500 #number of draws used when calculating the variance\n",
    "initial_model = NeuralNetwork().to(device)\n",
    "\n",
    "df_variance_loss, df_variance_loss_median = calculate_variance_loss(params, nb_iter_model, \n",
    "                                                                    nb_replications_model, \n",
    "                                                                    nb_draws_var, \n",
    "                                                                    grid_M, grid_N, \n",
    "                                                                    norm_chosen = 2.0, \n",
    "                                                                    freq_accuracy=1000, \n",
    "                                                                    calculate_variance_gradient=True,\n",
    "                                                                    initial_model=initial_model)"
   ]
  },
  {
   "cell_type": "code",
   "execution_count": 137,
   "metadata": {
    "scrolled": true
   },
   "outputs": [
    {
     "name": "stderr",
     "output_type": "stream",
     "text": [
      "/tmp/ipykernel_475279/1185080735.py:2: FutureWarning: Calling int on a single element Series is deprecated and will raise a TypeError in the future. Use int(ser.iloc[0]) instead\n",
      "  min_M = int(df_variance_loss_median[df_variance_loss_median['P50_var_loss'] == min_var]['M'])\n",
      "/tmp/ipykernel_475279/1185080735.py:3: FutureWarning: Calling int on a single element Series is deprecated and will raise a TypeError in the future. Use int(ser.iloc[0]) instead\n",
      "  min_N = int(df_variance_loss_median[df_variance_loss_median['P50_var_loss'] == min_var]['N'])\n",
      "/tmp/ipykernel_475279/1185080735.py:7: FutureWarning: Calling int on a single element Series is deprecated and will raise a TypeError in the future. Use int(ser.iloc[0]) instead\n",
      "  min_M_grad = int(df_variance_loss_median[df_variance_loss_median['P50_var_gradient_loss'] == min_var_grad]['M'])\n",
      "/tmp/ipykernel_475279/1185080735.py:8: FutureWarning: Calling int on a single element Series is deprecated and will raise a TypeError in the future. Use int(ser.iloc[0]) instead\n",
      "  min_N_grad = int(df_variance_loss_median[df_variance_loss_median['P50_var_gradient_loss'] == min_var_grad]['N'])\n"
     ]
    },
    {
     "data": {
      "image/png": "[encoded data removed]",
      "text/plain": [
       "<Figure size 1440x810 with 4 Axes>"
      ]
     },
     "metadata": {
      "needs_background": "light"
     },
     "output_type": "display_data"
    }
   ],
   "source": [
    "min_var = np.min(df_variance_loss_median['P50_var_loss'])\n",
    "min_M = int(df_variance_loss_median[df_variance_loss_median['P50_var_loss'] == min_var]['M'])\n",
    "min_N = int(df_variance_loss_median[df_variance_loss_median['P50_var_loss'] == min_var]['N'])\n",
    "\n",
    "try:\n",
    "    min_var_grad = np.min(df_variance_loss_median['P50_var_gradient_loss'])\n",
    "    min_M_grad = int(df_variance_loss_median[df_variance_loss_median['P50_var_gradient_loss'] == min_var_grad]['M'])\n",
    "    min_N_grad = int(df_variance_loss_median[df_variance_loss_median['P50_var_gradient_loss'] == min_var_grad]['N'])\n",
    "except:\n",
    "    print(\"error\")\n",
    "    \n",
    "fig, ((ax1, ax2), (ax3, ax4)) = plt.subplots(2, 2)\n",
    "\n",
    "ax1.plot(df_variance_loss_median['M'], np.log10(df_variance_loss_median['P50_var_loss']), label=\"median variance loss\")\n",
    "ax1.plot(grid_M, np.log10(var_loss), label=\"loss proposition 4\")\n",
    "ax1.fill_between(df_variance_loss_median['M'], np.log10(df_variance_loss_median['P25_var_loss']), np.log10(df_variance_loss_median['P75_var_loss']), label=\"P25-P75 variance loss\", alpha=0.25)\n",
    "ax1.axvline(min_M, label=\"minimum variance\", linestyle=\"--\")\n",
    "ax1.set_xlabel(\"M\")\n",
    "ax1.set_ylabel(\"Log10 variance loss function\")\n",
    "ax1.set_title('Variance loss function')\n",
    "ax1.legend()\n",
    "\n",
    "ax2.plot(df_variance_loss_median['M'], np.log10(df_variance_loss_median['P50_mean_loss']), label=\"median mean loss\")\n",
    "ax2.fill_between(df_variance_loss_median['M'], np.log10(df_variance_loss_median['P25_mean_loss']), np.log10(df_variance_loss_median['P75_mean_loss']), label=\"P25-P75 mean loss\", alpha=0.25)\n",
    "ax2.set_xlabel(\"M\")\n",
    "ax2.set_ylabel(\"Log10 mean loss function\")\n",
    "ax2.set_title('Mean loss function')\n",
    "ax2.legend()\n",
    "\n",
    "ax3.plot(df_variance_loss_median['M'], np.log10(df_variance_loss_median['P50_var_gradient_loss']), label=\"median variance loss\")\n",
    "ax3.fill_between(df_variance_loss_median['M'], np.log10(df_variance_loss_median['P25_var_gradient_loss']), np.log10(df_variance_loss_median['P75_var_gradient_loss']), label=\"P25-P75 variance loss\", alpha=0.25)\n",
    "ax3.axvline(min_M_grad, label=\"minimum gradient variance\", linestyle=\"--\")\n",
    "ax3.set_xlabel(\"M\")\n",
    "ax3.set_ylabel(\"Log10 variance gradient loss function\")\n",
    "ax3.set_title('Variance gradient loss function')\n",
    "ax3.legend()\n",
    "\n",
    "ax4.plot(df_variance_loss_median['M'], np.log10(df_variance_loss_median['P50_mean_gradient_loss']), label=\"median mean gradient loss\")\n",
    "ax4.fill_between(df_variance_loss_median['M'], np.log10(df_variance_loss_median['P25_mean_gradient_loss']), np.log10(df_variance_loss_median['P75_mean_gradient_loss']), label=\"P25-P75 mean gradient loss\", alpha=0.25)\n",
    "ax4.set_xlabel(\"M\")\n",
    "ax4.set_ylabel(\"Log10 mean gradient loss function\")\n",
    "ax4.set_title('Mean gradient loss function')\n",
    "ax4.legend()\n",
    "\n",
    "fig.tight_layout()\n",
    "figname = output_folder + 'variance_loss_bc_' + str(params.bc) + '.png'\n",
    "plt.savefig(figname)\n",
    "plt.show()\n"
   ]
  },
  {
   "cell_type": "code",
   "execution_count": null,
   "metadata": {},
   "outputs": [],
   "source": [
    "print(\"Minimizing the loss function\")\n",
    "print(\"variance loss\")\n",
    "print(\"Minimum error for M: {}.\".format(min_M))\n",
    "print(\"Minimum error for N: {}.\".format(min_N))\n",
    "\n",
    "print(\"variance gradient loss\")\n",
    "print(\"Minimum error for M: {}.\".format(min_M_grad))\n",
    "print(\"Minimum error for N: {}.\".format(min_N_grad))"
   ]
  },
  {
   "cell_type": "code",
   "execution_count": null,
   "metadata": {
    "scrolled": true
   },
   "outputs": [],
   "source": [
    "min_var = np.min(df_variance_loss_median['P50_var_loss'])\n",
    "min_M = int(df_variance_loss_median[df_variance_loss_median['P50_var_loss'] == min_var]['M'])\n",
    "min_N = int(df_variance_loss_median[df_variance_loss_median['P50_var_loss'] == min_var]['N'])\n",
    "\n",
    "plt.plot(df_variance_loss_median['M'], np.log10(df_variance_loss_median['P50_var_loss']), label=\"median mean loss\")\n",
    "plt.fill_between(df_variance_loss_median['M'], np.log10(df_variance_loss_median['P25_var_loss']), np.log10(df_variance_loss_median['P75_var_loss']), label=\"P25-P75 mean loss\", alpha=0.25)\n",
    "plt.axvline(min_M, label=\"minimum variance\", linestyle=\"--\")\n",
    "plt.xlabel(\"M\")\n",
    "plt.ylabel(\"Log10 mean loss function\")\n",
    "plt.legend()\n"
   ]
  },
  {
   "cell_type": "code",
   "execution_count": null,
   "metadata": {
    "scrolled": true
   },
   "outputs": [],
   "source": [
    "df_variance_loss_median['optimizer'] = params.optimizer\n",
    "df_variance_loss_median['sigma_e'] = params.σ_e\n",
    "df_variance_loss_median['Sobol'] = params.use_Sobol\n",
    "df_variance_loss_median['user_scheduler'] = params.use_scheduler\n",
    "df_variance_loss_median['lr'] = params.lr\n",
    "\n",
    "# Extra transformations\n",
    "df_variance_loss_median['log10_variance_loss'] = np.log10(df_variance_loss_median['P50_var_loss'])\n",
    "df_variance_loss_median['log10_variance_gradient_loss'] = np.log10(df_variance_loss_median['P50_var_gradient_loss'])\n",
    "df_variance_loss_median['log_std_loss'] = np.log(df_variance_loss_median['P50_std_loss'])\n",
    "df_variance_loss_median['log_std_gradient_loss'] = np.log(df_variance_loss_median['P50_std_gradient_loss'])\n",
    "\n",
    "df_variance_loss_median.to_csv(output_folder + 'df_variance_loss_median_bc_' + str(params.bc) + '.csv', index=False)\n",
    "\n",
    "df_variance_loss_median"
   ]
  },
  {
   "cell_type": "code",
   "execution_count": null,
   "metadata": {},
   "outputs": [],
   "source": [
    "ax = sns.lmplot(x='var_gradient_loss', y='var_loss', data=df_variance_loss_median, height=7, aspect=1.6)\n",
    "ax.set(xlabel='Variance gradient loss function', ylabel='Variance loss function')\n",
    "fig.tight_layout()\n",
    "figname = output_folder + 'variance_loss_&_variance_gradient_loss_bc' + str(params.bc) + '.png'\n",
    "plt.savefig(figname)\n",
    "plt.show()"
   ]
  },
  {
   "cell_type": "code",
   "execution_count": null,
   "metadata": {
    "scrolled": true
   },
   "outputs": [],
   "source": [
    "model = smf.ols(formula='var_gradient_loss ~ var_loss', data=df_variance_loss).fit()\n",
    "print(model.summary())"
   ]
  },
  {
   "cell_type": "code",
   "execution_count": null,
   "metadata": {
    "scrolled": true
   },
   "outputs": [],
   "source": [
    "ax = sns.lmplot(x='log_std_gradient_loss', y='log_std_loss', data=df_variance_loss_median, height=7, aspect=1.6)\n",
    "ax.set(xlabel='Log std gradient loss function', ylabel='log std loss function')\n",
    "fig.tight_layout()\n",
    "figname = output_folder + 'std_loss_&_std_gradient_loss_bc' + str(params.bc) + '.png'\n",
    "plt.savefig(figname)\n",
    "plt.show()\n"
   ]
  },
  {
   "cell_type": "code",
   "execution_count": null,
   "metadata": {
    "scrolled": false
   },
   "outputs": [],
   "source": [
    "model = smf.ols(formula='log_std_loss ~ log_std_gradient_loss', data=df_variance_loss_median).fit()\n",
    "print(model.summary())"
   ]
  },
  {
   "cell_type": "markdown",
   "metadata": {},
   "source": [
    "---\n",
    "---\n",
    "\n",
    "### Several runs for the same choice of M and N\n",
    "\n",
    "#### A. Run for All in One: N=2"
   ]
  },
  {
   "cell_type": "code",
   "execution_count": null,
   "metadata": {},
   "outputs": [],
   "source": [
    "M_chosen = 100 #25 #100 #200 # 50 #outer expectation \n",
    "N_chosen = 2 #8 #2 #4 # Inner expectation\n",
    "nb_epochs_chosen = 10000 #number of epochs\n",
    "\n",
    "params = MyParams(N_chosen, M_chosen, lr_chosen, pre_train_model_chosen, \n",
    "                  nb_epochs_chosen, bc_chosen, order_gauss,\n",
    "                  σ_shocks_chosen, use_Sobol_chosen, optimizer_chosen,\n",
    "                  w1_chosen, w2_chosen)\n",
    "\n",
    "show_params(params)"
   ]
  },
  {
   "cell_type": "code",
   "execution_count": null,
   "metadata": {
    "scrolled": false
   },
   "outputs": [],
   "source": [
    "%%time\n",
    "# Calculate variance of loss. Used in the plot below\n",
    "nb_iter_model = 2000 #200 #1 # nb iterations before calculating the variance\n",
    "nb_rep_model = 10 #number of repetitions of the process: iter model -> calculate variance of loss\n",
    "nb_draws_var = 500 #number of independent draws to calculate the variance\n",
    "\n",
    "initial_model = NeuralNetwork().to(device)\n",
    "\n",
    "# Grid M and grid N\n",
    "T = (params.M*params.N)/2\n",
    "#grid_N = np.concatenate((np.ones(1), np.array([N for N in range(2, 200+2, 2)])))\n",
    "grid_N = np.array([N for N in range(2, params.T+2, 2)])\n",
    "grid_M = 2*T/grid_N\n",
    "\n",
    "is_int = grid_M % 1 == 0\n",
    "grid_N = grid_N[is_int]\n",
    "grid_M = grid_M[is_int]\n",
    "\n",
    "print(grid_N)\n",
    "print(grid_M)\n",
    "print(grid_N*grid_M)\n",
    "\n",
    "df_variance_loss, df_variance_loss_median = calculate_variance_loss(params, nb_iter_model, \n",
    "                                                                    nb_rep_model, nb_draws_var, \n",
    "                                                                    grid_M, grid_N, \n",
    "                                                                    norm_chosen = 2.0, freq_accuracy=1000, \n",
    "                                                                    calculate_variance_gradient=True,\n",
    "                                                                    initial_model=initial_model)\n",
    "df_variance_loss_bc_zero = df_variance_loss.copy()\n",
    "df_variance_loss_median_bc_zero = df_variance_loss_median.copy()"
   ]
  },
  {
   "cell_type": "code",
   "execution_count": null,
   "metadata": {
    "scrolled": false
   },
   "outputs": [],
   "source": [
    "%%time\n",
    "nb_rep = 10 #number of different trainings, holding the initial values cst\n",
    "freq_loss_chosen = 100 #20 #monitor accuracy every 10 iterations of gradient step (the smaller, the more time it takes)\n",
    "# Calculate several runs, with similar initial guess\n",
    "use_same_draws_chosen = True\n",
    "M_accuracy_chosen = 1000\n",
    "N_accuracy_chosen = 100\n",
    "\n",
    "df_AIO, df_AIO_average = calculate_several_runs(params, nb_rep, \n",
    "                                                freq_loss = freq_loss_chosen,\n",
    "                                                initial_model=initial_model,\n",
    "                                                use_same_draws = use_same_draws_chosen, \n",
    "                                                M_accuracy = M_accuracy_chosen, \n",
    "                                                N_accuracy = N_accuracy_chosen)\n",
    "\n",
    "df_AIO_bc_zero = df_AIO.copy()\n",
    "df_AIO_average_bc_zero = df_AIO_average.copy()"
   ]
  },
  {
   "cell_type": "code",
   "execution_count": null,
   "metadata": {},
   "outputs": [],
   "source": [
    "fig, ax = plt.subplots()\n",
    "ax.plot(df_AIO_average['iter'], df_AIO_average['P50_loss'], label=\"loss M: {}, N: {}\".format(df_AIO_average['M'].values[0], df_AIO_average['N'].values[0]))\n",
    "ax.fill_between(df_AIO_average['iter'],  df_AIO_average['P25_loss'], df_AIO_average['P75_loss'], label=\"range loss M: {}, N: {}\".format(df_AIO_average['M'].values[0], df_AIO_average['N'].values[0]), alpha=0.5)\n",
    "\n",
    "ax.plot(df_AIO_average['iter'], df_AIO_average['P50_med_percentage_error'], label=\"percentage error M: {}, N: {}\".format(df_AIO_average['M'].values[0], df_AIO_average['N'].values[0]))\n",
    "ax.fill_between(df_AIO_average['iter'],  df_AIO_average['P25_med_percentage_error'], df_AIO_average['P75_med_percentage_error'], label=\"range percentage error M: {}, N: {}\".format(df_AIO_average['M'].values[0], df_AIO_average['N'].values[0]), alpha=0.5)\n",
    "\n",
    "plt.xscale('log')\n",
    "plt.yscale('log')\n",
    "plt.legend()\n",
    "fig.tight_layout()"
   ]
  },
  {
   "cell_type": "markdown",
   "metadata": {},
   "source": [
    "#### B. Run for other choice of M and N"
   ]
  },
  {
   "cell_type": "code",
   "execution_count": null,
   "metadata": {},
   "outputs": [],
   "source": [
    "M_chosen = 2 #25 #100 #200 # 50 #outer expectation \n",
    "N_chosen = 100 #8 #2 #4 # Inner expectation\n",
    "\n",
    "params = MyParams(N_chosen, M_chosen, lr_chosen, pre_train_model_chosen, \n",
    "                  nb_epochs_chosen, bc_chosen, order_gauss,\n",
    "                  σ_shocks_chosen, use_Sobol_chosen, optimizer_chosen,\n",
    "                  w1_chosen, w2_chosen)\n",
    "\n",
    "show_params(params)"
   ]
  },
  {
   "cell_type": "code",
   "execution_count": null,
   "metadata": {
    "scrolled": true
   },
   "outputs": [],
   "source": [
    "%%time\n",
    "df_MC, df_MC_average = calculate_several_runs(params, nb_rep, \n",
    "                                                freq_loss = freq_loss_chosen,\n",
    "                                                initial_model=initial_model,\n",
    "                                                use_same_draws = use_same_draws_chosen, \n",
    "                                                M_accuracy = M_accuracy_chosen, \n",
    "                                                N_accuracy = N_accuracy_chosen)\n",
    "\n",
    "# Create copies\n",
    "df_MC_bc_zero = df_MC.copy()\n",
    "df_MC_average_bc_zero = df_MC_average.copy() "
   ]
  },
  {
   "cell_type": "code",
   "execution_count": null,
   "metadata": {},
   "outputs": [],
   "source": [
    "#read_from_csv=True"
   ]
  },
  {
   "cell_type": "code",
   "execution_count": null,
   "metadata": {},
   "outputs": [],
   "source": [
    "if save_to_csv == True:\n",
    "    print(\"Saving to CSV\")\n",
    "    df_MC_bc_zero.to_csv(output_folder + 'df_MC_bc' + str(params.bc) + '.csv', index=False)\n",
    "    df_MC_average_bc_zero.to_csv(output_folder + 'df_MC_average_bc' + str(params.bc) + '.csv', index=False)\n",
    "    df_AIO_bc_zero.to_csv(output_folder + 'df_AIO_bc' + str(params.bc) + '.csv', index=False)\n",
    "    df_AIO_average_bc_zero.to_csv(output_folder + 'df_AIO_average_bc' + str(params.bc) + '.csv', index=False)\n",
    "    df_variance_loss_bc_zero.to_csv(output_folder + 'df_variance_loss_bc' + str(params.bc) + '.csv', index=False)\n",
    "    df_variance_loss_median_bc_zero.to_csv(output_folder + 'df_variance_loss_median_bc' + str(params.bc) + '.csv', index=False)\n",
    "\n",
    "if read_from_csv == True:\n",
    "    print(\"Reading from CSV\")\n",
    "    # Read from .csv\n",
    "    df_MC = pd.read_csv(output_folder + 'df_MC_bc' + str(params.bc) + '.csv')\n",
    "    df_MC_average = pd.read_csv(output_folder + 'df_MC_average_bc' + str(params.bc) + '.csv')\n",
    "    df_AIO = pd.read_csv(output_folder + 'df_AIO_bc' + str(params.bc) + '.csv')\n",
    "    df_AIO_average = pd.read_csv(output_folder + 'df_AIO_average_bc' + str(params.bc) + '.csv')\n",
    "    df_variance_loss = pd.read_csv(output_folder + 'df_variance_loss_bc' + str(params.bc) + '.csv')\n",
    "    df_variance_loss_median = pd.read_csv(output_folder + 'df_variance_loss_median_bc' + str(params.bc) + '.csv')\n",
    "    "
   ]
  },
  {
   "cell_type": "code",
   "execution_count": null,
   "metadata": {},
   "outputs": [],
   "source": [
    "fig, ax = plt.subplots()\n",
    "ax.plot(df_MC_average['iter'], df_MC_average['P50_loss'], label=\"loss M: {}, N: {}\".format(df_MC_average['M'].values[0], df_MC_average['N'].values[0]))\n",
    "ax.fill_between(df_MC_average['iter'],  df_MC_average['P10_loss'], df_MC_average['P90_loss'], label=\"range loss M: {}, N: {}\".format(df_MC_average['M'].values[0], df_MC_average['N'].values[0]), alpha=0.5)\n",
    "\n",
    "ax.plot(df_MC_average['iter'], df_MC_average['P50_med_percentage_error'], label=\"percentage error M: {}, N: {}\".format(df_MC_average['M'].values[0], df_MC_average['N'].values[0]))\n",
    "ax.fill_between(df_MC_average['iter'],  df_MC_average['P10_med_percentage_error'], df_MC_average['P90_med_percentage_error'], label=\"range percentage error M: {}, N: {}\".format(df_MC_average['M'].values[0], df_MC_average['N'].values[0]), alpha=0.5)\n",
    "\n",
    "plt.xscale('log')\n",
    "plt.yscale('log')\n",
    "plt.legend()\n",
    "fig.tight_layout()"
   ]
  },
  {
   "cell_type": "code",
   "execution_count": null,
   "metadata": {
    "scrolled": true
   },
   "outputs": [],
   "source": [
    "plot_scale = 1.25\n",
    "plt.rcParams[\"figure.figsize\"] = (plot_scale*16, plot_scale*9)\n",
    "plt.rcParams['legend.fontsize'] = MEDIUM_SIZE\n",
    "\n",
    "# Use one standard deviation band\n",
    "rate_P50 = 10 #rate for the average\n",
    "rate_rolling_stddev = 10 #rate for the stddev.\n",
    "rate = 10 #rate for the std. bounds\n",
    "mult_std = 0.5\n",
    "min_val = 1e-12\n",
    "\n",
    "fig, (ax1, ax2, ax3) = plt.subplots(1, 3)\n",
    "\n",
    "# Loss AIO\n",
    "linestyle_AIO = \"-.\"\n",
    "linestyle_MC = \"--\"\n",
    "color_AIO = \"blue\"\n",
    "color_MC = \"green\"\n",
    "\n",
    "M_AIO = int(df_AIO_average['M'].values[0])\n",
    "N_AIO = int(df_AIO_average['N'].values[0])\n",
    "\n",
    "M_MC = int(df_MC_average['M'].values[0])\n",
    "N_MC = int(df_MC_average['N'].values[0])\n",
    "\n",
    "# Std. dev. loss\n",
    "ax1.plot(df_variance_loss_median['M'], df_variance_loss_median['P50_std_loss'], label=\"Std. dev. loss function\", color=\"black\", linewidth=linewidth_chosen)\n",
    "#ax1.fill_between(df_variance_loss_median['M'], np.log10(df_variance_loss_median['P25_var_loss']), np.log10(df_variance_loss_median['P75_var_loss']), label=\"P25-P75 variance loss\", alpha=0.25)\n",
    "ax1.axvline([params.T], label=\"M: {}, N: {}\".format(M_AIO, N_AIO), linestyle=linestyle_AIO, color=color_AIO, linewidth=linewidth_chosen)\n",
    "ax1.axvline([2], label=\"M: {}, N: {}\".format(M_MC, N_MC), linestyle=linestyle_MC, color=color_MC, linewidth=linewidth_chosen)\n",
    "ax1.set_xlabel(\"M\",size=MEDIUM_SIZE)\n",
    "ax1.set_ylabel(\"Std. dev. loss function\",size=MEDIUM_SIZE)\n",
    "ax1.set_title('Std. dev. loss function',size=MEDIUM_SIZE)\n",
    "ax1.legend(loc='upper right')\n",
    "\n",
    "# Loss AIO\n",
    "std_series = df_AIO_average['std_loss']\n",
    "ax2.plot(df_AIO_average['iter'], pd.Series(df_AIO_average['loss']).rolling(rate).mean(), label=\"Mean loss M: {}, N: {}\".format(M_AIO, N_AIO), linestyle=linestyle_AIO, color=color_AIO, linewidth=linewidth_chosen)\n",
    "ax2.fill_between(df_AIO_average['iter'],  pd.Series(np.maximum(df_AIO_average['loss'] - mult_std*std_series, min_val)).rolling(rate).mean(), pd.Series(df_AIO_average['loss'] + mult_std*std_series).rolling(rate).mean(), label=\"+-{} std. dev. CI loss M: {}, N: {}\".format(mult_std, M_AIO, N_AIO), alpha=0.25, color=color_AIO)\n",
    "# Loss Monte Carlo\n",
    "std_series = df_MC_average['std_loss']\n",
    "ax2.plot(df_MC_average['iter'], pd.Series(df_MC_average['loss']).rolling(rate).mean(), label=\"Mean loss M: {}, N: {}\".format(M_MC, N_MC), linestyle=linestyle_MC, color=color_MC, linewidth=linewidth_chosen)\n",
    "ax2.fill_between(df_MC_average['iter'],  pd.Series(np.maximum(df_MC_average['loss'] - mult_std*std_series, min_val)).rolling(rate).mean(), pd.Series(df_MC_average['loss'] + mult_std*std_series).rolling(rate).mean(), label=\"+-{} std. dev. CI loss M: {}, N: {}\".format(mult_std, M_MC, N_MC), alpha=0.25, color=color_MC)\n",
    "ax2.set_title('Loss function',size=MEDIUM_SIZE)\n",
    "ax2.set_xlabel(\"Iterations\",size=MEDIUM_SIZE)\n",
    "ax2.set_ylabel(\"Value loss function\",size=MEDIUM_SIZE)\n",
    "ax2.legend()\n",
    "\n",
    "# Error AIO\n",
    "#rate_P50 = 10\n",
    "#rate = 10\n",
    "mult_std = 0.5\n",
    "#min_val = 1e-12\n",
    "\n",
    "std_series = df_AIO_average['std_med_percentage_error']\n",
    "ax3.plot(df_AIO_average['iter'], pd.Series(df_AIO_average['med_percentage_error']).rolling(rate_P50).mean(), label=\"Mean percentage error M: {}, N: {}\".format(M_AIO, N_AIO), linestyle=linestyle_AIO, color=color_AIO, linewidth=linewidth_chosen)\n",
    "ax3.fill_between(df_AIO_average['iter'],  pd.Series(np.maximum(df_AIO_average['med_percentage_error'] - mult_std*std_series, min_val)).rolling(rate).mean(), pd.Series(df_AIO_average['med_percentage_error'] + mult_std*std_series).rolling(rate).mean(), label=\"+-{} std. dev. CI M: {}, N: {}\".format(mult_std, M_AIO, N_AIO), alpha=0.25, color=color_AIO)\n",
    "# Error MC\n",
    "std_series = df_MC_average['std_med_percentage_error']\n",
    "ax3.plot(df_MC_average['iter'], pd.Series(df_MC_average['med_percentage_error']).rolling(rate_P50).mean(), label=\"Mean percentage error M: {}, N: {}\".format(M_MC, N_MC), linestyle=linestyle_MC, color=color_MC, linewidth=linewidth_chosen)\n",
    "ax3.fill_between(df_MC_average['iter'], pd.Series(np.maximum(df_MC_average['med_percentage_error'] - mult_std*std_series, min_val)).rolling(rate).mean(), pd.Series(df_MC_average['med_percentage_error'] + mult_std*std_series).rolling(rate).mean(), label=\"+-{} std. dev. CI M: {}, N: {}\".format(mult_std, M_MC, N_MC), alpha=0.25, color=color_MC)\n",
    "\n",
    "ax3.set_xlabel(\"Iterations\",size=MEDIUM_SIZE)\n",
    "ax3.set_ylabel(\"Percentage error\",size=MEDIUM_SIZE)\n",
    "ax3.set_title('Percentage error policy function',size=MEDIUM_SIZE)\n",
    "ax3.legend()\n",
    "\n",
    "ax1.set_yscale('log')\n",
    "#ax1_bis.set_xscale('log')\n",
    "#ax2.set_xscale('log')\n",
    "ax2.set_yscale('log')\n",
    "#ax3.set_xscale('log')\n",
    "ax3.set_yscale('log')\n",
    "\n",
    "\n",
    "fig.tight_layout()\n",
    "\n",
    "figname = output_folder + 'AIO_versus_MC_several_runs_2_bc' + str(params.bc) + '.png'\n",
    "plt.savefig(figname, dpi=dpi_chosen)\n",
    "plt.show()"
   ]
  },
  {
   "cell_type": "code",
   "execution_count": null,
   "metadata": {
    "scrolled": true
   },
   "outputs": [],
   "source": [
    "plot_scale = 1.25\n",
    "plt.rcParams[\"figure.figsize\"] = (plot_scale*16, plot_scale*9)\n",
    "\n",
    "# Use one standard deviation band\n",
    "rate_P50 = 10 #rate for the average\n",
    "rate_rolling_stddev = 10 #rate for the stddev.\n",
    "rate = 10 #rate for the std. bounds\n",
    "mult_std = 0.5\n",
    "min_val = 1e-12\n",
    "\n",
    "fig, (ax1, ax2, ax3) = plt.subplots(1, 3)\n",
    "\n",
    "# Loss AIO\n",
    "linestyle_AIO = \"-.\"\n",
    "linestyle_MC = \"--\"\n",
    "color_AIO = \"blue\"\n",
    "color_MC = \"green\"\n",
    "\n",
    "M_AIO = int(df_AIO_average['M'].values[0])\n",
    "N_AIO = int(df_AIO_average['N'].values[0])\n",
    "\n",
    "M_MC = int(df_MC_average['M'].values[0])\n",
    "N_MC = int(df_MC_average['N'].values[0])\n",
    "\n",
    "# Std. dev. loss\n",
    "ax1.plot(df_variance_loss_median['M'], df_variance_loss_median['P50_std_loss'], label=\"Std. dev. loss function\", color=\"black\")\n",
    "#ax1.fill_between(df_variance_loss_median['M'], np.log10(df_variance_loss_median['P25_var_loss']), np.log10(df_variance_loss_median['P75_var_loss']), label=\"P25-P75 variance loss\", alpha=0.25)\n",
    "ax1.axvline([params.T], label=\"M: {}, N: {}\".format(M_AIO, N_AIO), linestyle=linestyle_AIO, color=color_AIO)\n",
    "ax1.axvline([2], label=\"M: {}, N: {}\".format(M_MC, N_MC), linestyle=linestyle_MC, color=color_MC)\n",
    "ax1.set_xlabel(\"M\")\n",
    "ax1.set_ylabel(\"Std. dev. loss function\")\n",
    "ax1.set_title('Std. dev. loss function')\n",
    "ax1.legend(loc='upper right')\n",
    "\n",
    "# Loss AIO\n",
    "std_series = df_AIO_average['std_loss']\n",
    "ax2.plot(df_AIO_average['iter'], pd.Series(df_AIO_average['loss']).rolling(rate).mean(), label=\"Mean loss M: {}, N: {}\".format(M_AIO, N_AIO), linestyle=linestyle_AIO, color=color_AIO)\n",
    "ax2.fill_between(df_AIO_average['iter'],  pd.Series(np.maximum(df_AIO_average['loss'] - mult_std*std_series, min_val)).rolling(rate).mean(), pd.Series(df_AIO_average['loss'] + mult_std*std_series).rolling(rate).mean(), label=\"+-{} std. dev. CI loss M: {}, N: {}\".format(mult_std, M_AIO, N_AIO), alpha=0.25, color=color_AIO)\n",
    "# Loss Monte Carlo\n",
    "std_series = df_MC_average['std_loss']\n",
    "ax2.plot(df_MC_average['iter'], pd.Series(df_MC_average['loss']).rolling(rate).mean(), label=\"Mean loss M: {}, N: {}\".format(M_MC, N_MC), linestyle=linestyle_MC, color=color_MC)\n",
    "ax2.fill_between(df_MC_average['iter'],  pd.Series(np.maximum(df_MC_average['loss'] - mult_std*std_series, min_val)).rolling(rate).mean(), pd.Series(df_MC_average['loss'] + mult_std*std_series).rolling(rate).mean(), label=\"+-{} std. dev. CI loss M: {}, N: {}\".format(mult_std, M_MC, N_MC), alpha=0.25, color=color_MC)\n",
    "ax2.set_title('Loss function')\n",
    "ax2.set_xlabel(\"Iterations\")\n",
    "ax2.set_ylabel(\"Value loss function\")\n",
    "ax2.legend()\n",
    "\n",
    "# Error AIO\n",
    "#rate_P50 = 10\n",
    "#rate = 10\n",
    "mult_std = 0.5\n",
    "#min_val = 1e-12\n",
    "\n",
    "std_series = df_AIO_average['std_med_percentage_error']\n",
    "ax3.plot(df_AIO_average['iter'], pd.Series(df_AIO_average['med_percentage_error']).rolling(rate_P50).mean(), label=\"Mean percentage error M: {}, N: {}\".format(M_AIO, N_AIO), linestyle=linestyle_AIO, color=color_AIO)\n",
    "ax3.fill_between(df_AIO_average['iter'],  pd.Series(np.maximum(df_AIO_average['med_percentage_error'] - mult_std*std_series, min_val)).rolling(rate).mean(), pd.Series(df_AIO_average['med_percentage_error'] + mult_std*std_series).rolling(rate).mean(), label=\"+-{} std. dev. CI M: {}, N: {}\".format(mult_std, M_AIO, N_AIO), alpha=0.25, color=color_AIO)\n",
    "# Error MC\n",
    "std_series = df_MC_average['std_med_percentage_error']\n",
    "ax3.plot(df_MC_average['iter'], pd.Series(df_MC_average['med_percentage_error']).rolling(rate_P50).mean(), label=\"Mean percentage error M: {}, N: {}\".format(M_MC, N_MC), linestyle=linestyle_MC, color=color_MC)\n",
    "ax3.fill_between(df_MC_average['iter'], pd.Series(np.maximum(df_MC_average['med_percentage_error'] - mult_std*std_series, min_val)).rolling(rate).mean(), pd.Series(df_MC_average['med_percentage_error'] + mult_std*std_series).rolling(rate).mean(), label=\"+-{} std. dev. CI M: {}, N: {}\".format(mult_std, M_MC, N_MC), alpha=0.25, color=color_MC)\n",
    "\n",
    "ax3.set_xlabel(\"Iterations\")\n",
    "ax3.set_ylabel(\"Percentage error\")\n",
    "ax3.set_title('Percentage error policy function')\n",
    "ax3.legend()\n",
    "\n",
    "ax1.set_yscale('log')\n",
    "#ax1_bis.set_xscale('log')\n",
    "#ax2.set_xscale('log')\n",
    "#ax2.set_yscale('log')\n",
    "#ax3.set_xscale('log')\n",
    "#ax3.set_yscale('log')\n",
    "\n",
    "\n",
    "fig.tight_layout()\n",
    "\n",
    "figname = output_folder + 'AIO_versus_MC_several_runs_2_bc' + str(params.bc) + '_linear_scale.png'\n",
    "plt.savefig(figname)\n",
    "plt.show()"
   ]
  },
  {
   "cell_type": "code",
   "execution_count": null,
   "metadata": {
    "scrolled": false
   },
   "outputs": [],
   "source": [
    "# Compare levels of losses and accuracy\n",
    "rate_P50 = 10\n",
    "rate = 10\n",
    "mult_std = 1.0\n",
    "min_val = 1e-12\n",
    "last_loss_AIO = pd.Series(df_AIO_average['loss']).rolling(rate).mean().values[-1]\n",
    "last_loss_MC = pd.Series(df_MC_average['loss']).rolling(rate).mean().values[-1]\n",
    "\n",
    "print(\"-------------------------\")\n",
    "print(\"Comparing levels\")\n",
    "print(\"Final loss AIO: {}\".format(last_loss_AIO))\n",
    "print(\"Final loss MC: {}\".format(last_loss_MC))\n",
    "print(\"% difference: {}\".format(100*(last_loss_AIO/last_loss_MC - 1.0)))\n",
    "\n",
    "last_loss_AIO = pd.Series(df_AIO_average['med_percentage_error']).rolling(rate).mean().values[-1]\n",
    "last_loss_MC = pd.Series(df_MC_average['med_percentage_error']).rolling(rate).mean().values[-1]\n",
    "\n",
    "print(\"Median % error AIO: {}\".format(last_loss_AIO))\n",
    "print(\"Median % error MC: {}\".format(last_loss_MC))\n",
    "print(\"% difference: {}\".format(100*(last_loss_AIO/last_loss_MC - 1.0)))\n",
    "\n",
    "print(\"-------------------------\")\n",
    "print(\"Comparing std deviations\")\n",
    "last_loss_AIO = df_AIO_average['std_loss'].values[-1]\n",
    "last_loss_MC = df_MC_average['std_loss'].values[-1]\n",
    "\n",
    "print(\"Final std dev. loss AIO: {}\".format(last_loss_AIO))\n",
    "print(\"Final std dev.  loss MC: {}\".format(last_loss_MC))\n",
    "print(\"% difference: {}\".format(100*(last_loss_AIO/last_loss_MC - 1.0)))\n",
    "\n",
    "last_loss_AIO = df_AIO_average['med_percentage_error'].values[-1]\n",
    "last_loss_MC = df_MC_average['med_percentage_error'].values[-1]\n",
    "\n",
    "print(\"Final std dev. euler error AIO: {}\".format(last_loss_AIO))\n",
    "print(\"Final std dev. euler error MC: {}\".format(last_loss_MC))\n",
    "print(\"% difference: {}\".format(100*(last_loss_AIO/last_loss_MC - 1.0)))"
   ]
  },
  {
   "cell_type": "code",
   "execution_count": null,
   "metadata": {},
   "outputs": [],
   "source": [
    "# Correlation loss and accuracy\n",
    "plt.scatter(pd.Series(df_MC_average['loss']), pd.Series(df_MC_average['med_percentage_error']), label=\"bc-MC\")\n",
    "plt.scatter(pd.Series(df_AIO_average['loss']), pd.Series(df_AIO_average['med_percentage_error']), label=\"AIO\")\n",
    "sns.regplot(data=df_MC_average, x='loss', y='med_percentage_error', scatter = False, ci = 95, fit_reg = True, color = 'blue')\n",
    "sns.regplot(data=df_AIO_average, x='loss', y='med_percentage_error', scatter = False, ci = 95, fit_reg = True, color = 'orange') \n",
    "plt.legend()\n",
    "fig.tight_layout()\n",
    "figname = output_folder + 'AIO_versus_MC_correlation_bc' + str(params.bc) + '.png'\n",
    "plt.savefig(figname)\n",
    "plt.xscale('log')\n",
    "plt.yscale('log')\n",
    "\n",
    "print(\"Correlation loss and median percentage error AIO: {}\".format(df_AIO_average['loss'].corr(df_AIO_average['med_percentage_error'])))\n",
    "print(\"Correlation loss and median percentage error MC: {}\".format(df_MC_average['loss'].corr(df_MC_average['med_percentage_error'])))\n"
   ]
  },
  {
   "cell_type": "markdown",
   "metadata": {},
   "source": [
    "---\n",
    "---\n",
    "\n",
    "## Model with a less binding borrowing constraint\n",
    "\n",
    "### Params"
   ]
  },
  {
   "cell_type": "code",
   "execution_count": null,
   "metadata": {},
   "outputs": [],
   "source": [
    "M_chosen = 100 #25 #100 #200 # 50 #outer expectation \n",
    "N_chosen = 2 #8 #2 #4 # Inner expectation\n",
    "lr_chosen = 1e-3 #0.5e-2\n",
    "pre_train_model_chosen = False\n",
    "nb_epochs_chosen = 10000\n",
    "order_gauss = 1 #Default. order_gauss = 2\n",
    "bc_chosen = 1.0 #0.0 #1.0\n",
    "σ_shocks_chosen = 0.01 #0.01\n",
    "use_Sobol_chosen = False\n",
    "optimizer_chosen = \"Adam\"\n",
    "w1_chosen = 0.75\n",
    "w2_chosen = 0.25\n",
    "\n",
    "params = MyParams(N_chosen, M_chosen, lr_chosen, pre_train_model_chosen, \n",
    "                  nb_epochs_chosen, bc_chosen, order_gauss,\n",
    "                  σ_shocks_chosen, use_Sobol_chosen, optimizer_chosen,\n",
    "                  w1_chosen, w2_chosen)\n",
    "\n",
    "show_params(params)"
   ]
  },
  {
   "cell_type": "markdown",
   "metadata": {},
   "source": [
    "### Time iteration"
   ]
  },
  {
   "cell_type": "code",
   "execution_count": null,
   "metadata": {},
   "outputs": [],
   "source": [
    "# Initial guess for time iteration\n",
    "σ = np.zeros((params.n_points_grid, params.n_points_grid, params.n_points_grid, params.n_points_grid, params.n_points_w))\n",
    "        \n",
    "for (r_index, r_value) in enumerate(params.r_grid):\n",
    "    for (p_index, p_value) in enumerate(params.p_grid):\n",
    "        for (q_index, q_value) in enumerate(params.q_grid):\n",
    "            for (δ_index, δ_value) in enumerate(params.δ_grid):\n",
    "                for (w_index, w_value) in enumerate(params.w_grid):\n",
    "                    σ[r_index, p_index, q_index, δ_index, w_index] = 0.9*w_value\n",
    "\n",
    "# Turn σ into a function via interpolation\n",
    "σ_func = lambda x: interp(params.r_grid, params.p_grid, params.q_grid, params.δ_grid, params.w_grid, σ, x)"
   ]
  },
  {
   "cell_type": "code",
   "execution_count": null,
   "metadata": {},
   "outputs": [],
   "source": [
    "# Solve the model by time iteration and Gaussian quadrature\n",
    "tol_chosen = 1e-5\n",
    "max_iter_chosen = 100\n",
    "verbose_chosen = True\n",
    "print_skip_chosen = 1\n",
    "do_plot_chosen = False\n",
    "\n",
    "solve_model_time_iter_quadrature(params, σ, σ_func, \n",
    "                                 tol_chosen, max_iter_chosen, \n",
    "                                 verbose_chosen, print_skip_chosen, do_plot_chosen)"
   ]
  },
  {
   "cell_type": "code",
   "execution_count": null,
   "metadata": {
    "scrolled": false
   },
   "outputs": [],
   "source": [
    "# Plot the result\n",
    "len_wec = params.nb_points_test\n",
    "\n",
    "with torch.no_grad():\n",
    "    rvec = np.zeros(len_wec)\n",
    "    pvec = np.zeros(len_wec)\n",
    "    qvec = np.zeros(len_wec)\n",
    "    δvec = np.zeros(len_wec)\n",
    "    wvec = params.xvec_test\n",
    "    state_next = np.column_stack((rvec, pvec, qvec, δvec, wvec))\n",
    "    cvec_TI = params.c_function_TI(state_next) #σ_func(state_next)\n",
    "    cvec_TI_bc_1 = cvec_TI.copy()\n",
    "    k_next_TI = wvec.squeeze(1) - cvec_TI\n",
    "\n",
    "plt.title(\"Multidimensional Consumption-Savings (decision rule) BEFORE TRAINING\")\n",
    "plt.plot(wvec, wvec, linestyle='--', color='black', label=\"45°\")\n",
    "plt.plot(wvec, cvec_TI, label='c TI')\n",
    "plt.plot(wvec, k_next_TI, label='kt+1 TI')\n",
    "#plt.plot(wvec, [params.bc for k in range(0, len(wvec))], linestyle='--', color='black', label=\"b\")\n",
    "plt.plot(wvec, wvec + params.bc, linestyle='--', color='black', label=\"w + b\")\n",
    "plt.xlabel(\"$w_t$\")\n",
    "plt.ylabel(\"$c_t$\")\n",
    "plt.title(\"Solution Time Iteration\")\n",
    "plt.legend()"
   ]
  },
  {
   "cell_type": "code",
   "execution_count": null,
   "metadata": {},
   "outputs": [],
   "source": [
    "# Evaluate accuracy \n",
    "euler, euler_bis, c, c_RHS, w = evaluate_accuracy_TI_MC(10000, 100, params)\n",
    "\n",
    "print(\"Euler TI\")\n",
    "print(\"Mean: {}\".format(np.mean(np.abs(euler))))\n",
    "print(\"Median: {}\".format(np.median(np.abs(euler))))\n",
    "print(\"Min: {}\".format(np.min(np.abs(euler))))\n",
    "print(\"Max: {}\".format(np.max(np.abs(euler))))\n",
    "print(\"std dev.: {}\".format(np.std(np.abs(euler))))\n",
    "\n",
    "# Should take the mean of the absolute value\n",
    "print(\"Euler Bis TI\")\n",
    "print(\"Mean: {}\".format(np.mean(np.abs(euler_bis))))\n",
    "print(\"Median: {}\".format(np.median(np.abs(euler_bis))))\n",
    "print(\"Min: {}\".format(np.min(np.abs(euler_bis))))\n",
    "print(\"Max: {}\".format(np.max(np.abs(euler_bis))))\n",
    "print(\"std dev.: {}\".format(np.std(np.abs(euler_bis))))\n",
    "\n",
    "\n",
    "c2 = np.zeros(len(c))\n",
    "BC_biding = np.zeros(len(c))*np.nan\n",
    "for i in range(0, len(c)):\n",
    "    c2[i] = (max(c_RHS[i], (w[i]+params.bc)**(-params.γ)))**(-1/params.γ)\n",
    "\n",
    "plt.scatter(c, c2, label=\"c2(c)\", color=\"blue\")\n",
    "plt.xlabel('c')\n",
    "plt.ylabel('c2')\n",
    "plt.legend()\n",
    "\n",
    "per_deviation = 100*np.abs((c - c2)/(0.5*c + 0.5*c2))\n",
    "print(\"Max percentage deviation c1 and c2 {}\".format(np.max(per_deviation)))\n",
    "print(\"Mean percentage deviation c1 and c2 {}\".format(np.mean(per_deviation)))\n",
    "print(\"Median percentage deviation c1 and c2 {}\".format(np.median(per_deviation)))"
   ]
  },
  {
   "cell_type": "markdown",
   "metadata": {},
   "source": [
    "### Estimate MC once"
   ]
  },
  {
   "cell_type": "code",
   "execution_count": null,
   "metadata": {},
   "outputs": [],
   "source": [
    "model_MC = NeuralNetwork().to(device)\n",
    "print(model_MC)\n",
    "use_same_draws = False\n",
    "M_accuracy = 1000 #number of daws state space\n",
    "N_accuracy = 100 #number of draws shocks for each state\n",
    "freq_loss= 100 #frequence with with storing loss and accuracy\n",
    "\n",
    "#seed=123\n",
    "np.random.seed(seed_number)\n",
    "torch.manual_seed(seed_number)\n",
    "\n",
    "model_MC.train()\n",
    "\n",
    "if params.optimizer == \"Adam\":\n",
    "    optimizer = torch.optim.Adam(model_MC.parameters(), lr=params.lr, eps=1e-07, betas=(0.9, 0.999)) \n",
    "elif params.optimizer == \"SGD\":\n",
    "    optimizer = torch.optim.SGD(model_MC.parameters(), params.lr)\n",
    "elif params.optimizer == \"SWA\":\n",
    "    base_opt = torch.optim.Adam(model_MC.parameters(), lr=params.lr, eps=1e-07, betas=(0.9, 0.999)) \n",
    "    optimizer = SWA(base_opt, swa_start=params.swa_start, swa_freq=params.swa_freq, swa_lr=params.lr)\n",
    "else:\n",
    "    raise(\"optimizer unknown\")\n",
    "\n",
    "scheduler = torch.optim.lr_scheduler.ExponentialLR(optimizer, gamma=params.freq_gamma)\n",
    "\n",
    "loss_epochs_MC = torch.zeros(params.nb_epochs)\n",
    "list_MC_gradient = [] #store the norm of the gradient\n",
    "list_perc_abs_error_MC = [] #store median abs value percentage error\n",
    "list_perc_abs_error_MC_mean = [] #mean\n",
    "list_perc_abs_error_MC_max = [] #max\n",
    "list_perc_abs_error_MC_std = [] #std\n",
    "list_perc_abs_error_MC_i = [] #store index i\n",
    "list_perc_abs_error_MC_loss = [] #store loss\n",
    "\n",
    "for i in tqdm(range(0, params.nb_epochs)):\n",
    "    loss = Ξ_torch_MC(model_MC, params)\n",
    "    loss_epochs_MC[[i]] = float(loss.item())\n",
    "\n",
    "    # Backpropagation\n",
    "    optimizer.zero_grad()\n",
    "    loss.backward()\n",
    "    optimizer.step()\n",
    "    \n",
    "    if i % freq_loss == 0: #Monitor the gradient\n",
    "        model_MC.eval()\n",
    "        # Evaluate accuracy \n",
    "        with torch.no_grad():\n",
    "            # frozen draws\n",
    "            if use_same_draws==True:\n",
    "                euler, euler_bis, c, c_RHS, w = evaluate_accuracy_pytorch_MC_frozen(model_MC, params)\n",
    "            else:\n",
    "                # new fresh draws\n",
    "                euler, euler_bis, c, c_RHS, w = evaluate_accuracy_pytorch_MC(model_MC, M_accuracy, N_accuracy, params)\n",
    "        list_perc_abs_error_MC.append(np.median(euler_bis))\n",
    "        list_perc_abs_error_MC_mean.append(np.mean(euler_bis))\n",
    "        list_perc_abs_error_MC_max.append(np.max(euler_bis))\n",
    "        list_perc_abs_error_MC_std.append(np.std(euler_bis))\n",
    "        list_perc_abs_error_MC_i.append(i)\n",
    "        list_perc_abs_error_MC_loss.append(float(loss.item()))\n",
    "        model_MC.train()\n",
    "    if i % 1000 == 0:\n",
    "        loss, current = float(loss.item()), i\n",
    "        print(f\"loss: {loss:>7f}, median euler error {list_perc_abs_error_MC[-1]:>7f}, [{current:>5d}/{params.nb_epochs:>5d}]\")\n",
    "    if (i % params.freq_scheduler == 0) & (i != 0) & (params.use_scheduler == True):\n",
    "        scheduler.step()\n",
    "        print(\"i : {}. Decreasing learning rate: {}\".format(i, scheduler.get_last_lr()))\n",
    "\n",
    "if params.optimizer == \"SWA\":\n",
    "    optimizer.swap_swa_sgd()\n"
   ]
  },
  {
   "cell_type": "code",
   "execution_count": null,
   "metadata": {
    "scrolled": true
   },
   "outputs": [],
   "source": [
    "# Test approximation\n",
    "model_MC.eval()\n",
    "\n",
    "# Define the grid\n",
    "nb_points = 100\n",
    "with torch.no_grad():\n",
    "    wvec_eval = torch.linspace(params.wmin, params.wmax, nb_points)\n",
    "    rvec_eval = 0*torch.ones(nb_points) #torch.linspace(grid.σ_e_r_min, grid.σ_e_r_max, nb_points) #torch.zeros(nb_points)\n",
    "    pvec_eval = 0*torch.ones(nb_points) #torch.zeros(nb_points)\n",
    "    qvec_eval = 0*torch.ones(nb_points) #torch.zeros(nb_points)\n",
    "    δvec_eval = 0*torch.ones(nb_points) #torch.zeros(nb_points)\n",
    "\n",
    "    # To store vaules\n",
    "    ζvec = torch.zeros(nb_points)\n",
    "    hvec = torch.zeros(nb_points)\n",
    "    cvec = torch.zeros(nb_points)\n",
    "\n",
    "    cvec_MC, hvec_MC = model_normalized(model_MC, rvec_eval, pvec_eval, qvec_eval, δvec_eval, wvec_eval, params)\n",
    "    # save for latter use\n",
    "    cvec_MC_bc_1, hvec_MC_bc_1 = cvec_MC.detach().numpy(), hvec_MC.detach().numpy()\n",
    "    \n",
    "plt.title(\"Multidimensional Consumption-Savings (decision rule)\")\n",
    "plt.plot(wvec_eval, wvec_eval, linestyle='--', color='black')\n",
    "plt.plot(wvec_eval.detach().numpy(), cvec_MC.detach().numpy(), label=\"c(w) bc-MC\")\n",
    "plt.plot(wvec, cvec_TI, label='c(w) TI')\n",
    "plt.plot(wvec_eval.detach().numpy(), hvec_MC.detach().numpy(), label=\"h(w) bc-MC\")\n",
    "#plt.plot(wvec, [params.bc for k in range(0, len(wvec))], linestyle='--', color='black', label=\"b\")\n",
    "plt.plot(wvec, wvec + params.bc, linestyle='--', color='black', label=\"w + b\")\n",
    "plt.xlabel(\"$w_t$\")\n",
    "plt.ylabel(\"$c_t$\")\n",
    "plt.legend()"
   ]
  },
  {
   "cell_type": "code",
   "execution_count": null,
   "metadata": {
    "scrolled": true
   },
   "outputs": [],
   "source": [
    "%%time \n",
    "model_MC.eval()\n",
    "\n",
    "# Evaluate accuracy \n",
    "euler, euler_bis, c, c_RHS, w = evaluate_accuracy_pytorch_MC(model_MC, 10000, 100, params)\n",
    "\n",
    "print(\"Euler MC\")\n",
    "print(\"Mean: {}\".format(np.mean(np.abs(euler))))\n",
    "print(\"Median: {}\".format(np.median(np.abs(euler))))\n",
    "print(\"Min: {}\".format(np.min(np.abs(euler))))\n",
    "print(\"Max: {}\".format(np.max(np.abs(euler))))\n",
    "print(\"std dev.: {}\".format(np.std(np.abs(euler))))\n",
    "\n",
    "# Should take the mean of the absolute value\n",
    "print(\"Euler Bis MC\")\n",
    "print(\"Mean: {}\".format(np.mean(np.abs(euler_bis))))\n",
    "print(\"Median: {}\".format(np.median(np.abs(euler_bis))))\n",
    "print(\"Min: {}\".format(np.min(np.abs(euler_bis))))\n",
    "print(\"Max: {}\".format(np.max(np.abs(euler_bis))))\n",
    "print(\"std dev.: {}\".format(np.std(np.abs(euler_bis))))\n",
    "\n",
    "c2 = np.zeros(len(c))\n",
    "BC_biding = np.zeros(len(c))*np.nan\n",
    "for i in range(0, len(c)):\n",
    "    c2[i] = (max(c_RHS[i], (w[i] + params.bc)**(-params.γ)))**(-1/params.γ)\n",
    "    # Binding \n",
    "    if c_RHS[i] < (w[i] + params.bc)**(-params.γ):\n",
    "        BC_biding[i] = ((w[i] + params.bc)**(-params.γ))**(-1/params.γ)\n",
    "        \n",
    "plt.scatter(c, c2, label=\"c2(c)\", color=\"blue\")\n",
    "plt.plot(c, BC_biding, label=\"BC\", color=\"red\")\n",
    "plt.xlabel('c')\n",
    "plt.ylabel('c2')\n",
    "plt.legend()\n",
    "\n",
    "per_deviation = 100*np.abs((c - c2)/(0.5*c + 0.5*c2))\n",
    "print(\"Max percentage deviation c1 and c2 {}\".format(np.max(per_deviation)))\n",
    "print(\"Mean percentage deviation c1 and c2 {}\".format(np.mean(per_deviation)))\n",
    "print(\"Median percentage deviation c1 and c2 {}\".format(np.median(per_deviation)))"
   ]
  },
  {
   "cell_type": "markdown",
   "metadata": {},
   "source": [
    "### Plot consumption rule for two parametrizations"
   ]
  },
  {
   "cell_type": "code",
   "execution_count": null,
   "metadata": {},
   "outputs": [],
   "source": [
    "color_bc_1 = \"green\"\n",
    "color_bc_0 = \"blue\"\n",
    "plt.title(\"Multidimensional Consumption-Savings (decision rule)\")\n",
    "plt.plot(wvec_eval, wvec_eval, linestyle='-.', color='black', label=\"45°\")\n",
    "plt.plot(wvec_eval.detach().numpy(), cvec_MC_bc_0, label=\"bc-MC (b=0)\", color=color_bc_0)\n",
    "plt.plot(wvec_eval.detach().numpy(), cvec_MC_bc_1, label=\"bc-MC (b=1)\", color=color_bc_1, linestyle=\"--\")\n",
    "#plt.plot(wvec, cvec_TI_bc_0, label='TI (b=0)', linestyle=\"--\", color=color_bc_0)\n",
    "#plt.plot(wvec, cvec_TI_bc_1, label='TI (b=1)', linestyle=\"--\", color=color_bc_1)\n",
    "\n",
    "plt.xlabel(\"$w_t$\")\n",
    "plt.ylabel(\"$c_t$\")\n",
    "plt.legend()\n",
    "\n",
    "fig.tight_layout()\n",
    "figname = output_folder + 'model_MC_bc_0_&_1.png'\n",
    "plt.savefig(figname)\n",
    "plt.show()\n"
   ]
  },
  {
   "cell_type": "code",
   "execution_count": null,
   "metadata": {},
   "outputs": [],
   "source": [
    "fig, (ax1, ax2) = plt.subplots(1, 2)\n",
    "\n",
    "color_bc_1 = \"green\"\n",
    "color_bc_0 = \"blue\"\n",
    "plt.rcParams['legend.fontsize'] = MEDIUM_SIZE\n",
    "\n",
    "ax1.plot(wvec_eval, wvec_eval, linestyle='-.', color='black', label=\"45°\")\n",
    "ax1.plot(wvec_eval.detach().numpy(), cvec_MC_bc_0, label=\"bc-MC (b=0)\", color=color_bc_0, linewidth=linewidth_chosen)\n",
    "ax1.plot(wvec_eval.detach().numpy(), cvec_MC_bc_1, label=\"bc-MC (b=1)\", color=color_bc_1, linestyle=\"--\", linewidth=linewidth_chosen)\n",
    "ax1.legend()\n",
    "ax1.set_xlabel(\"$w_t$\",size=MEDIUM_SIZE)\n",
    "ax1.set_ylabel(\"$c_t$\",size=MEDIUM_SIZE)\n",
    "ax1.set_title('bc-MC Operator',size=MEDIUM_SIZE)\n",
    "\n",
    "\n",
    "ax2.plot(wvec_eval, wvec_eval, linestyle='-.', color='black', label=\"45°\")\n",
    "ax2.plot(wvec, cvec_TI_bc_0, label='TI (b=0)', color=color_bc_0, linewidth=linewidth_chosen)\n",
    "ax2.plot(wvec, cvec_TI_bc_1, label='TI (b=1)', color=color_bc_1, linestyle=\"--\", linewidth=linewidth_chosen)\n",
    "\n",
    "ax2.set_xlabel(\"$w_t$\",size=MEDIUM_SIZE)\n",
    "ax2.set_ylabel(\"$c_t$\",size=MEDIUM_SIZE)\n",
    "ax2.set_title('Time Iteration Algorithm',size=MEDIUM_SIZE)\n",
    "ax2.legend()\n",
    "\n",
    "fig.tight_layout()\n",
    "figname = output_folder + 'model_MC_&_TI_bc_0_&_1.png'\n",
    "plt.savefig(figname, dpi = dpi_chosen)\n",
    "plt.show()\n"
   ]
  },
  {
   "cell_type": "code",
   "execution_count": null,
   "metadata": {},
   "outputs": [],
   "source": [
    "# Correlation loss and accuracy\n",
    "df_test = pd.DataFrame({'loss': np.sqrt( np.abs(list_perc_abs_error_MC_loss)),\n",
    "                       'med_percentage_error':list_perc_abs_error_MC})\n",
    "\n",
    "fig, (ax1) = plt.subplots(1, 1)\n",
    "ax1.scatter(pd.Series(df_test['loss']), pd.Series(df_test['med_percentage_error']), label=\"bc-MC\")\n",
    "sns.regplot(data=df_test, x='loss', y='med_percentage_error', scatter = False, ci = 95, fit_reg = True, color = 'blue')\n",
    "plt.legend()\n",
    "fig.tight_layout()\n",
    "\n",
    "ax1.set_yscale('log')\n",
    "ax1.set_xscale('log')\n",
    "print(\"Correlation loss and median percentage error: {}\".format(df_test['loss'].corr(df_test['med_percentage_error'])))"
   ]
  },
  {
   "cell_type": "markdown",
   "metadata": {},
   "source": [
    "### Variance loss"
   ]
  },
  {
   "cell_type": "code",
   "execution_count": null,
   "metadata": {
    "scrolled": true
   },
   "outputs": [],
   "source": [
    "%%time\n",
    "# Calculate variance of loss. Used in the plot below\n",
    "nb_iter_model = 2000 #1 # nb iterations before calculating the variance\n",
    "nb_rep_model = 10 #number of repetitions of the process: iter model -> calculate variance of loss\n",
    "nb_draws_var = 500 #number of independent draws to calculate the variance\n",
    "\n",
    "initial_model = NeuralNetwork().to(device)\n",
    "\n",
    "# Grid M and grid N\n",
    "T = (params.M*params.N)/2\n",
    "#grid_N = np.concatenate((np.ones(1), np.array([N for N in range(2, 200+2, 2)])))\n",
    "grid_N = np.array([N for N in range(2, params.T+2, 2)])\n",
    "grid_M = 2*T/grid_N\n",
    "\n",
    "is_int = grid_M % 1 == 0\n",
    "grid_N = grid_N[is_int]\n",
    "grid_M = grid_M[is_int]\n",
    "\n",
    "print(grid_N)\n",
    "print(grid_M)\n",
    "print(grid_N*grid_M)\n",
    "\n",
    "df_variance_loss, df_variance_loss_median = calculate_variance_loss(params, nb_iter_model, \n",
    "                                                                    nb_rep_model, nb_draws_var, \n",
    "                                                                    grid_M, grid_N, \n",
    "                                                                    norm_chosen = 2.0, freq_accuracy=1000, \n",
    "                                                                    calculate_variance_gradient=True,\n",
    "                                                                    initial_model=initial_model)\n",
    "\n",
    "df_variance_loss_bc_one = df_variance_loss.copy()\n",
    "df_variance_loss_median_bc_one = df_variance_loss_median.copy()"
   ]
  },
  {
   "cell_type": "code",
   "execution_count": null,
   "metadata": {
    "scrolled": false
   },
   "outputs": [],
   "source": [
    "min_var = np.min(df_variance_loss_median['P50_var_loss'])\n",
    "min_M = int(df_variance_loss_median[df_variance_loss_median['P50_var_loss'] == min_var]['M'])\n",
    "min_N = int(df_variance_loss_median[df_variance_loss_median['P50_var_loss'] == min_var]['N'])\n",
    "\n",
    "try:\n",
    "    min_var_grad = np.min(df_variance_loss_median['P50_var_gradient_loss'])\n",
    "    min_M_grad = int(df_variance_loss_median[df_variance_loss_median['P50_var_gradient_loss'] == min_var_grad]['M'])\n",
    "    min_N_grad = int(df_variance_loss_median[df_variance_loss_median['P50_var_gradient_loss'] == min_var_grad]['N'])\n",
    "except:\n",
    "    print(\"error\")\n",
    "    \n",
    "fig, ((ax1, ax2), (ax3, ax4)) = plt.subplots(2, 2)\n",
    "\n",
    "ax1.plot(df_variance_loss_median['M'], np.log10(df_variance_loss_median['P50_var_loss']), label=\"median variance loss\")\n",
    "ax1.fill_between(df_variance_loss_median['M'], np.log10(df_variance_loss_median['P25_var_loss']), np.log10(df_variance_loss_median['P75_var_loss']), label=\"P25-P75 variance loss\", alpha=0.25)\n",
    "ax1.axvline(min_M, label=\"minimum variance\", linestyle=\"--\")\n",
    "ax1.set_xlabel(\"M\")\n",
    "ax1.set_ylabel(\"Log10 variance loss function\")\n",
    "ax1.set_title('Variance loss function')\n",
    "ax1.legend()\n",
    "\n",
    "ax2.plot(df_variance_loss_median['M'], np.log10(df_variance_loss_median['P50_mean_loss']), label=\"median mean loss\")\n",
    "ax2.fill_between(df_variance_loss_median['M'], np.log10(df_variance_loss_median['P25_mean_loss']), np.log10(df_variance_loss_median['P75_mean_loss']), label=\"P25-P75 mean loss\", alpha=0.25)\n",
    "ax2.set_xlabel(\"M\")\n",
    "ax2.set_ylabel(\"Log10 mean loss function\")\n",
    "ax2.set_title('Mean loss function')\n",
    "ax2.legend()\n",
    "\n",
    "ax3.plot(df_variance_loss_median['M'], np.log10(df_variance_loss_median['P50_var_gradient_loss']), label=\"median variance loss\")\n",
    "ax3.fill_between(df_variance_loss_median['M'], np.log10(df_variance_loss_median['P25_var_gradient_loss']), np.log10(df_variance_loss_median['P75_var_gradient_loss']), label=\"P25-P75 variance loss\", alpha=0.25)\n",
    "ax3.axvline(min_M_grad, label=\"minimum gradient variance\", linestyle=\"--\")\n",
    "ax3.set_xlabel(\"M\")\n",
    "ax3.set_ylabel(\"Log10 variance gradient loss function\")\n",
    "ax3.set_title('Variance gradient loss function')\n",
    "ax3.legend()\n",
    "\n",
    "ax4.plot(df_variance_loss_median['M'], np.log10(df_variance_loss_median['P50_mean_gradient_loss']), label=\"median mean gradient loss\")\n",
    "ax4.fill_between(df_variance_loss_median['M'], np.log10(df_variance_loss_median['P25_mean_gradient_loss']), np.log10(df_variance_loss_median['P75_mean_gradient_loss']), label=\"P25-P75 mean gradient loss\", alpha=0.25)\n",
    "ax4.set_xlabel(\"M\")\n",
    "ax4.set_ylabel(\"Log10 mean gradient loss function\")\n",
    "ax4.set_title('Mean gradient loss function')\n",
    "ax4.legend()\n",
    "\n",
    "fig.tight_layout()\n",
    "figname = output_folder + 'variance_loss_bc_' + str(params.bc) + 'bc_1.png'\n",
    "plt.savefig(figname)\n",
    "plt.show()\n"
   ]
  },
  {
   "cell_type": "markdown",
   "metadata": {},
   "source": [
    "### Several runs AIO (N=2)"
   ]
  },
  {
   "cell_type": "code",
   "execution_count": null,
   "metadata": {
    "scrolled": true
   },
   "outputs": [],
   "source": [
    "M_chosen = 100 #25 #100 #200 # 50 #outer expectation \n",
    "N_chosen = 2 #8 #2 #4 # Inner expectation\n",
    "nb_epochs_chosen = 10000 #number of epochs\n",
    "\n",
    "params = MyParams(N_chosen, M_chosen, lr_chosen, pre_train_model_chosen, \n",
    "                  nb_epochs_chosen, bc_chosen, order_gauss,\n",
    "                  σ_shocks_chosen, use_Sobol_chosen, optimizer_chosen,\n",
    "                  w1_chosen, w2_chosen)\n",
    "\n",
    "show_params(params)"
   ]
  },
  {
   "cell_type": "code",
   "execution_count": null,
   "metadata": {
    "scrolled": false
   },
   "outputs": [],
   "source": [
    "%%time\n",
    "nb_rep = 10 #number of different trainings, holding the initial values cst\n",
    "freq_loss_chosen = 100 #20 #monitor accuracy every 10 iterations of gradient step (the smaller, the more time it takes)\n",
    "use_same_draws_chosen = True\n",
    "M_accuracy_chosen = 1000\n",
    "N_accuracy_chosen = 100\n",
    "# Calculate several runs, with similar initial guess\n",
    "\n",
    "df_AIO, df_AIO_average = calculate_several_runs(params, nb_rep, \n",
    "                                                freq_loss = freq_loss_chosen,\n",
    "                                                initial_model=initial_model,\n",
    "                                                use_same_draws = use_same_draws_chosen, \n",
    "                                                M_accuracy = M_accuracy_chosen, \n",
    "                                                N_accuracy = N_accuracy_chosen)\n",
    "\n",
    "df_AIO_bc_one = df_AIO.copy()\n",
    "df_AIO_average_bc_one = df_AIO_average.copy()"
   ]
  },
  {
   "cell_type": "code",
   "execution_count": null,
   "metadata": {},
   "outputs": [],
   "source": [
    "#df_AIO.to_csv(output_folder + 'df_AIO_bc' + str(params.bc) + '.csv', index=False)\n",
    "#df_AIO_average.to_csv(output_folder + 'df_AIO_average_bc' + str(params.bc) + '.csv', index=False)"
   ]
  },
  {
   "cell_type": "code",
   "execution_count": null,
   "metadata": {},
   "outputs": [],
   "source": [
    "fig, ax = plt.subplots()\n",
    "ax.plot(df_AIO_average['iter'], df_AIO_average['P50_loss'], label=\"loss M: {}, N: {}\".format(df_AIO_average['M'].values[0], df_AIO_average['N'].values[0]))\n",
    "ax.fill_between(df_AIO_average['iter'],  df_AIO_average['P25_loss'], df_AIO_average['P75_loss'], label=\"range loss M: {}, N: {}\".format(df_AIO_average['M'].values[0], df_AIO_average['N'].values[0]), alpha=0.5)\n",
    "\n",
    "ax.plot(df_AIO_average['iter'], df_AIO_average['P50_med_percentage_error'], label=\"percentage error M: {}, N: {}\".format(df_AIO_average['M'].values[0], df_AIO_average['N'].values[0]))\n",
    "ax.fill_between(df_AIO_average['iter'],  df_AIO_average['P25_med_percentage_error'], df_AIO_average['P75_med_percentage_error'], label=\"range percentage error M: {}, N: {}\".format(df_AIO_average['M'].values[0], df_AIO_average['N'].values[0]), alpha=0.5)\n",
    "\n",
    "plt.xscale('log')\n",
    "plt.yscale('log')\n",
    "plt.legend()\n",
    "fig.tight_layout()"
   ]
  },
  {
   "cell_type": "markdown",
   "metadata": {},
   "source": [
    "### Several runs Monte Carlo"
   ]
  },
  {
   "cell_type": "code",
   "execution_count": null,
   "metadata": {},
   "outputs": [],
   "source": [
    "M_chosen = min_M #20 #50 #2 #25 #100 #200 # 50 #outer expectation \n",
    "N_chosen = min_N #10 #4 #100 #8 #2 #4 # Inner expectation\n",
    "\n",
    "params = MyParams(N_chosen, M_chosen, lr_chosen, pre_train_model_chosen, \n",
    "                  nb_epochs_chosen, bc_chosen, order_gauss,\n",
    "                  σ_shocks_chosen, use_Sobol_chosen, optimizer_chosen,\n",
    "                  w1_chosen, w2_chosen)\n",
    "\n",
    "show_params(params)"
   ]
  },
  {
   "cell_type": "code",
   "execution_count": null,
   "metadata": {
    "scrolled": true
   },
   "outputs": [],
   "source": [
    "%%time\n",
    "df_MC, df_MC_average = calculate_several_runs(params, nb_rep, \n",
    "                                                freq_loss = freq_loss_chosen,\n",
    "                                                initial_model=initial_model,\n",
    "                                                use_same_draws = use_same_draws_chosen, \n",
    "                                                M_accuracy = M_accuracy_chosen, \n",
    "                                                N_accuracy = N_accuracy_chosen)\n",
    "\n",
    "df_MC_bc_one = df_MC.copy()\n",
    "df_MC_average_bc_one = df_MC_average.copy()"
   ]
  },
  {
   "cell_type": "code",
   "execution_count": null,
   "metadata": {},
   "outputs": [],
   "source": [
    "read_from_csv = True"
   ]
  },
  {
   "cell_type": "code",
   "execution_count": null,
   "metadata": {},
   "outputs": [],
   "source": [
    "#df_MC.to_csv(output_folder + 'df_MC_bc' + str(params.bc) + '.csv', index=False)\n",
    "#df_MC_average.to_csv(output_folder + 'df_MC_average_bc' + str(params.bc) + '.csv', index=False)\n",
    "\n",
    "if save_to_csv == True:\n",
    "    print(\"Saving to CSV\")\n",
    "    df_MC_bc_one.to_csv(output_folder + 'df_MC_bc' + str(params.bc) + '.csv', index=False)\n",
    "    df_MC_average_bc_one.to_csv(output_folder + 'df_MC_average_bc' + str(params.bc) + '.csv', index=False)\n",
    "    df_AIO_bc_one.to_csv(output_folder + 'df_AIO_bc' + str(params.bc) + '.csv', index=False)\n",
    "    df_AIO_average_bc_one.to_csv(output_folder + 'df_AIO_average_bc' + str(params.bc) + '.csv', index=False)\n",
    "    df_variance_loss_bc_one.to_csv(output_folder + 'df_variance_loss_bc' + str(params.bc) + '.csv', index=False)\n",
    "    df_variance_loss_median_bc_one.to_csv(output_folder + 'df_variance_loss_median_bc' + str(params.bc) + '.csv', index=False)\n",
    "\n",
    "if read_from_csv == True:\n",
    "    print(\"Reading from CSV\")\n",
    "    # Read from .csv\n",
    "    df_MC = pd.read_csv(output_folder + 'df_MC_bc' + str(params.bc) + '.csv')\n",
    "    df_MC_average = pd.read_csv(output_folder + 'df_MC_average_bc' + str(params.bc) + '.csv')\n",
    "    df_AIO = pd.read_csv(output_folder + 'df_AIO_bc' + str(params.bc) + '.csv')\n",
    "    df_AIO_average = pd.read_csv(output_folder + 'df_AIO_average_bc' + str(params.bc) + '.csv')\n",
    "    df_variance_loss = pd.read_csv(output_folder + 'df_variance_loss_bc' + str(params.bc) + '.csv')\n",
    "    df_variance_loss_median = pd.read_csv(output_folder + 'df_variance_loss_median_bc' + str(params.bc) + '.csv')\n",
    " "
   ]
  },
  {
   "cell_type": "code",
   "execution_count": null,
   "metadata": {},
   "outputs": [],
   "source": [
    "fig, ax = plt.subplots()\n",
    "ax.plot(df_MC_average['iter'], df_MC_average['P50_loss'], label=\"loss M: {}, N: {}\".format(df_MC_average['M'].values[0], df_MC_average['N'].values[0]))\n",
    "ax.fill_between(df_MC_average['iter'],  df_MC_average['P10_loss'], df_MC_average['P90_loss'], label=\"range loss M: {}, N: {}\".format(df_MC_average['M'].values[0], df_MC_average['N'].values[0]), alpha=0.5)\n",
    "\n",
    "ax.plot(df_MC_average['iter'], df_MC_average['P50_med_percentage_error'], label=\"percentage error M: {}, N: {}\".format(df_MC_average['M'].values[0], df_MC_average['N'].values[0]))\n",
    "ax.fill_between(df_MC_average['iter'],  df_MC_average['P10_med_percentage_error'], df_MC_average['P90_med_percentage_error'], label=\"range percentage error M: {}, N: {}\".format(df_MC_average['M'].values[0], df_MC_average['N'].values[0]), alpha=0.5)\n",
    "\n",
    "plt.xscale('log')\n",
    "plt.yscale('log')\n",
    "plt.legend()\n",
    "fig.tight_layout()"
   ]
  },
  {
   "cell_type": "markdown",
   "metadata": {},
   "source": [
    "### Combined Plots"
   ]
  },
  {
   "cell_type": "code",
   "execution_count": null,
   "metadata": {
    "scrolled": false
   },
   "outputs": [],
   "source": [
    "plot_scale = 1.25\n",
    "plt.rcParams[\"figure.figsize\"] = (plot_scale*16, plot_scale*9)\n",
    "plt.rcParams['legend.fontsize'] = MEDIUM_SIZE\n",
    "\n",
    "# Use one standard deviation band\n",
    "rate_P50 = 10 #rate for the average\n",
    "rate_rolling_stddev = 10 #rate for the stddev.\n",
    "rate = 10 #rate for the std. bounds\n",
    "mult_std = 0.5\n",
    "min_val = 1e-12\n",
    "\n",
    "fig, (ax1, ax2, ax3) = plt.subplots(1, 3)\n",
    "\n",
    "# Loss AIO\n",
    "linestyle_AIO = \"-.\"\n",
    "linestyle_MC = \"--\"\n",
    "color_AIO = \"blue\"\n",
    "color_MC = \"green\"\n",
    "\n",
    "M_AIO = int(df_AIO_average['M'].values[0])\n",
    "N_AIO = int(df_AIO_average['N'].values[0])\n",
    "\n",
    "M_MC = int(df_MC_average['M'].values[0])\n",
    "N_MC = int(df_MC_average['N'].values[0])\n",
    "\n",
    "# Std. dev. loss\n",
    "ax1.plot(df_variance_loss_median['M'], df_variance_loss_median['P50_std_loss'], label=\"Std. dev. loss function\", color=\"black\", linewidth=linewidth_chosen)\n",
    "#ax1.fill_between(df_variance_loss_median['M'], np.log10(df_variance_loss_median['P25_var_loss']), np.log10(df_variance_loss_median['P75_var_loss']), label=\"P25-P75 variance loss\", alpha=0.25)\n",
    "ax1.axvline([params.T], label=\"M: {}, N: {}\".format(M_AIO, N_AIO), linestyle=linestyle_AIO, color=color_AIO, linewidth=linewidth_chosen)\n",
    "ax1.axvline([M_chosen], label=\"M: {}, N: {}\".format(M_MC, N_MC), linestyle=linestyle_MC, color=color_MC, linewidth=linewidth_chosen)\n",
    "ax1.set_xlabel(\"M\",size=MEDIUM_SIZE)\n",
    "ax1.set_ylabel(\"Std. dev. loss function\",size=MEDIUM_SIZE)\n",
    "ax1.set_title('Std. dev. loss function',size=MEDIUM_SIZE)\n",
    "ax1.legend(loc='upper right')\n",
    "\n",
    "# Loss AIO\n",
    "std_series = df_AIO_average['std_loss']\n",
    "ax2.plot(df_AIO_average['iter'], pd.Series(df_AIO_average['loss']).rolling(rate).mean(), label=\"Mean loss M: {}, N: {}\".format(M_AIO, N_AIO), linestyle=linestyle_AIO, color=color_AIO, linewidth=linewidth_chosen)\n",
    "ax2.fill_between(df_AIO_average['iter'],  pd.Series(np.maximum(df_AIO_average['loss'] - mult_std*std_series, min_val)).rolling(rate).mean(), pd.Series(df_AIO_average['loss'] + mult_std*std_series).rolling(rate).mean(), label=\"+-{} std. dev. CI loss M: {}, N: {}\".format(mult_std, M_AIO, N_AIO), alpha=0.25, color=color_AIO)\n",
    "# Loss Monte Carlo\n",
    "std_series = df_MC_average['std_loss']\n",
    "ax2.plot(df_MC_average['iter'], pd.Series(df_MC_average['loss']).rolling(rate).mean(), label=\"Mean loss M: {}, N: {}\".format(M_MC, N_MC), linestyle=linestyle_MC, color=color_MC, linewidth=linewidth_chosen)\n",
    "ax2.fill_between(df_MC_average['iter'],  pd.Series(np.maximum(df_MC_average['loss'] - mult_std*std_series, min_val)).rolling(rate).mean(), pd.Series(df_MC_average['loss'] + mult_std*std_series).rolling(rate).mean(), label=\"+-{} std. dev. CI loss M: {}, N: {}\".format(mult_std, M_MC, N_MC), alpha=0.25, color=color_MC)\n",
    "ax2.set_title('Loss function',size=MEDIUM_SIZE)\n",
    "ax2.set_xlabel(\"Iterations\",size=MEDIUM_SIZE)\n",
    "ax2.set_ylabel(\"Value loss function\",size=MEDIUM_SIZE)\n",
    "ax2.legend()\n",
    "\n",
    "# Error AIO\n",
    "#rate_P50 = 10\n",
    "#rate = 10\n",
    "mult_std = 0.5\n",
    "#min_val = 1e-12\n",
    "\n",
    "std_series = df_AIO_average['std_med_percentage_error']\n",
    "ax3.plot(df_AIO_average['iter'], pd.Series(df_AIO_average['med_percentage_error']).rolling(rate_P50).mean(), label=\"Mean percentage error M: {}, N: {}\".format(M_AIO, N_AIO), linestyle=linestyle_AIO, color=color_AIO, linewidth=linewidth_chosen)\n",
    "ax3.fill_between(df_AIO_average['iter'],  pd.Series(np.maximum(df_AIO_average['med_percentage_error'] - mult_std*std_series, min_val)).rolling(rate).mean(), pd.Series(df_AIO_average['med_percentage_error'] + mult_std*std_series).rolling(rate).mean(), label=\"+-{} std. dev. CI M: {}, N: {}\".format(mult_std, M_AIO, N_AIO), alpha=0.25, color=color_AIO)\n",
    "# Error MC\n",
    "std_series = df_MC_average['std_med_percentage_error']\n",
    "ax3.plot(df_MC_average['iter'], pd.Series(df_MC_average['med_percentage_error']).rolling(rate_P50).mean(), label=\"Mean percentage error M: {}, N: {}\".format(M_MC, N_MC), linestyle=linestyle_MC, color=color_MC, linewidth=linewidth_chosen)\n",
    "ax3.fill_between(df_MC_average['iter'], pd.Series(np.maximum(df_MC_average['med_percentage_error'] - mult_std*std_series, min_val)).rolling(rate).mean(), pd.Series(df_MC_average['med_percentage_error'] + mult_std*std_series).rolling(rate).mean(), label=\"+-{} std. dev. CI M: {}, N: {}\".format(mult_std, M_MC, N_MC), alpha=0.25, color=color_MC)\n",
    "\n",
    "ax3.set_xlabel(\"Iterations\",size=MEDIUM_SIZE)\n",
    "ax3.set_ylabel(\"Percentage error\",size=MEDIUM_SIZE)\n",
    "ax3.set_title('Percentage error policy function',size=MEDIUM_SIZE)\n",
    "ax3.legend()\n",
    "\n",
    "ax1.set_yscale('log')\n",
    "#ax1_bis.set_xscale('log')\n",
    "#ax2.set_xscale('log')\n",
    "ax2.set_yscale('log')\n",
    "#ax3.set_xscale('log')\n",
    "ax3.set_yscale('log')\n",
    "\n",
    "\n",
    "fig.tight_layout()\n",
    "\n",
    "figname = output_folder + 'AIO_versus_MC_several_runs_2_bc' + str(params.bc) + '.png'\n",
    "plt.savefig(figname, dpi=dpi_chosen)\n",
    "plt.show()"
   ]
  },
  {
   "cell_type": "code",
   "execution_count": null,
   "metadata": {
    "scrolled": true
   },
   "outputs": [],
   "source": [
    "plot_scale = 1.25\n",
    "plt.rcParams[\"figure.figsize\"] = (plot_scale*16, plot_scale*9)\n",
    "\n",
    "# Use one standard deviation band\n",
    "rate_P50 = 10 #rate for the average\n",
    "rate_rolling_stddev = 10 #rate for the stddev.\n",
    "rate = 10 #rate for the std. bounds\n",
    "mult_std = 0.5\n",
    "min_val = 1e-12\n",
    "\n",
    "fig, (ax1, ax2, ax3) = plt.subplots(1, 3)\n",
    "\n",
    "# Loss AIO\n",
    "linestyle_AIO = \"-.\"\n",
    "linestyle_MC = \"--\"\n",
    "color_AIO = \"blue\"\n",
    "color_MC = \"green\"\n",
    "\n",
    "M_AIO = int(df_AIO_average['M'].values[0])\n",
    "N_AIO = int(df_AIO_average['N'].values[0])\n",
    "\n",
    "M_MC = int(df_MC_average['M'].values[0])\n",
    "N_MC = int(df_MC_average['N'].values[0])\n",
    "\n",
    "# Std. dev. loss\n",
    "ax1.plot(df_variance_loss_median['M'], df_variance_loss_median['P50_std_loss'], label=\"Std. dev. loss function\", color=\"black\")\n",
    "#ax1.fill_between(df_variance_loss_median['M'], np.log10(df_variance_loss_median['P25_var_loss']), np.log10(df_variance_loss_median['P75_var_loss']), label=\"P25-P75 variance loss\", alpha=0.25)\n",
    "ax1.axvline([params.T], label=\"M: {}, N: {}\".format(M_AIO, N_AIO), linestyle=linestyle_AIO, color=color_AIO)\n",
    "ax1.axvline([M_chosen], label=\"M: {}, N: {}\".format(M_MC, N_MC), linestyle=linestyle_MC, color=color_MC)\n",
    "ax1.set_xlabel(\"M\")\n",
    "ax1.set_ylabel(\"Std. dev. loss function\")\n",
    "ax1.set_title('Std. dev. loss function')\n",
    "ax1.legend(loc='upper right')\n",
    "\n",
    "# Loss AIO\n",
    "std_series = df_AIO_average['std_loss']\n",
    "ax2.plot(df_AIO_average['iter'], pd.Series(df_AIO_average['loss']).rolling(rate).mean(), label=\"Mean loss M: {}, N: {}\".format(M_AIO, N_AIO), linestyle=linestyle_AIO, color=color_AIO)\n",
    "ax2.fill_between(df_AIO_average['iter'],  pd.Series(np.maximum(df_AIO_average['loss'] - mult_std*std_series, min_val)).rolling(rate).mean(), pd.Series(df_AIO_average['loss'] + mult_std*std_series).rolling(rate).mean(), label=\"+-{} std. dev. CI loss M: {}, N: {}\".format(mult_std, M_AIO, N_AIO), alpha=0.25, color=color_AIO)\n",
    "# Loss Monte Carlo\n",
    "std_series = df_MC_average['std_loss']\n",
    "ax2.plot(df_MC_average['iter'], pd.Series(df_MC_average['loss']).rolling(rate).mean(), label=\"Mean loss M: {}, N: {}\".format(M_MC, N_MC), linestyle=linestyle_MC, color=color_MC)\n",
    "ax2.fill_between(df_MC_average['iter'],  pd.Series(np.maximum(df_MC_average['loss'] - mult_std*std_series, min_val)).rolling(rate).mean(), pd.Series(df_MC_average['loss'] + mult_std*std_series).rolling(rate).mean(), label=\"+-{} std. dev. CI loss M: {}, N: {}\".format(mult_std, M_MC, N_MC), alpha=0.25, color=color_MC)\n",
    "ax2.set_title('Loss function')\n",
    "ax2.set_xlabel(\"Iterations\")\n",
    "ax2.set_ylabel(\"Value loss function\")\n",
    "ax2.legend()\n",
    "\n",
    "# Error AIO\n",
    "#rate_P50 = 10\n",
    "#rate = 10\n",
    "mult_std = 0.5\n",
    "#min_val = 1e-12\n",
    "\n",
    "std_series = df_AIO_average['std_med_percentage_error']\n",
    "ax3.plot(df_AIO_average['iter'], pd.Series(df_AIO_average['med_percentage_error']).rolling(rate_P50).mean(), label=\"Mean percentage error M: {}, N: {}\".format(M_AIO, N_AIO), linestyle=linestyle_AIO, color=color_AIO)\n",
    "ax3.fill_between(df_AIO_average['iter'],  pd.Series(np.maximum(df_AIO_average['med_percentage_error'] - mult_std*std_series, min_val)).rolling(rate).mean(), pd.Series(df_AIO_average['med_percentage_error'] + mult_std*std_series).rolling(rate).mean(), label=\"+-{} std. dev. CI M: {}, N: {}\".format(mult_std, M_AIO, N_AIO), alpha=0.25, color=color_AIO)\n",
    "# Error MC\n",
    "std_series = df_MC_average['std_med_percentage_error']\n",
    "ax3.plot(df_MC_average['iter'], pd.Series(df_MC_average['med_percentage_error']).rolling(rate_P50).mean(), label=\"Mean percentage error M: {}, N: {}\".format(M_MC, N_MC), linestyle=linestyle_MC, color=color_MC)\n",
    "ax3.fill_between(df_MC_average['iter'], pd.Series(np.maximum(df_MC_average['med_percentage_error'] - mult_std*std_series, min_val)).rolling(rate).mean(), pd.Series(df_MC_average['med_percentage_error'] + mult_std*std_series).rolling(rate).mean(), label=\"+-{} std. dev. CI M: {}, N: {}\".format(mult_std, M_MC, N_MC), alpha=0.25, color=color_MC)\n",
    "\n",
    "ax3.set_xlabel(\"Iterations\")\n",
    "ax3.set_ylabel(\"Percentage error\")\n",
    "ax3.set_title('Percentage error policy function')\n",
    "ax3.legend()\n",
    "\n",
    "ax1.set_yscale('log')\n",
    "#ax1_bis.set_xscale('log')\n",
    "#ax2.set_xscale('log')\n",
    "#ax2.set_yscale('log')\n",
    "#ax3.set_xscale('log')\n",
    "#ax3.set_yscale('log')\n",
    "\n",
    "\n",
    "fig.tight_layout()\n",
    "\n",
    "figname = output_folder + 'AIO_versus_MC_several_runs_2_bc' + str(params.bc) + '_linear_scale.png'\n",
    "plt.savefig(figname)\n",
    "plt.show()"
   ]
  },
  {
   "cell_type": "code",
   "execution_count": null,
   "metadata": {},
   "outputs": [],
   "source": [
    "# Compare levels of losses and accuracy\n",
    "rate_P50 = 10\n",
    "rate = 10\n",
    "mult_std = 1.0\n",
    "min_val = 1e-12\n",
    "last_loss_AIO = pd.Series(df_AIO_average['loss']).rolling(rate).mean().values[-1]\n",
    "last_loss_MC = pd.Series(df_MC_average['loss']).rolling(rate).mean().values[-1]\n",
    "\n",
    "print(\"-------------------------\")\n",
    "print(\"Comparing levels\")\n",
    "print(\"Final loss AIO: {}\".format(last_loss_AIO))\n",
    "print(\"Final loss MC: {}\".format(last_loss_MC))\n",
    "print(\"% difference: {}\".format(100*(last_loss_AIO/last_loss_MC - 1.0)))\n",
    "\n",
    "last_loss_AIO = pd.Series(df_AIO_average['med_percentage_error']).rolling(rate).mean().values[-1]\n",
    "last_loss_MC = pd.Series(df_MC_average['med_percentage_error']).rolling(rate).mean().values[-1]\n",
    "\n",
    "print(\"Median % error AIO: {}\".format(last_loss_AIO))\n",
    "print(\"Median % error MC: {}\".format(last_loss_MC))\n",
    "print(\"% difference: {}\".format(100*(last_loss_AIO/last_loss_MC - 1.0)))\n",
    "\n",
    "print(\"-------------------------\")\n",
    "print(\"Comparing std deviations\")\n",
    "last_loss_AIO = df_AIO_average['std_loss'].values[-1]\n",
    "last_loss_MC = df_MC_average['std_loss'].values[-1]\n",
    "\n",
    "print(\"Final std dev. loss AIO: {}\".format(last_loss_AIO))\n",
    "print(\"Final std dev.  loss MC: {}\".format(last_loss_MC))\n",
    "print(\"% difference: {}\".format(100*(last_loss_AIO/last_loss_MC - 1.0)))\n",
    "\n",
    "last_loss_AIO = df_AIO_average['med_percentage_error'].values[-1]\n",
    "last_loss_MC = df_MC_average['med_percentage_error'].values[-1]\n",
    "\n",
    "print(\"Final std dev. euler error AIO: {}\".format(last_loss_AIO))\n",
    "print(\"Final std dev. euler error MC: {}\".format(last_loss_MC))\n",
    "print(\"% difference: {}\".format(100*(last_loss_AIO/last_loss_MC - 1.0)))"
   ]
  },
  {
   "cell_type": "code",
   "execution_count": null,
   "metadata": {},
   "outputs": [],
   "source": [
    "# Correlation loss and accuracy\n",
    "plt.scatter(pd.Series(df_MC_average['loss']), pd.Series(df_MC_average['med_percentage_error']), label=\"bc-MC\")\n",
    "plt.scatter(pd.Series(df_AIO_average['loss']), pd.Series(df_AIO_average['med_percentage_error']), label=\"AIO\")\n",
    "sns.regplot(data=df_MC_average, x='loss', y='med_percentage_error', scatter = False, ci = 95, fit_reg = True, color = 'blue')\n",
    "sns.regplot(data=df_AIO_average, x='loss', y='med_percentage_error', scatter = False, ci = 95, fit_reg = True, color = 'orange') \n",
    "plt.legend()\n",
    "fig.tight_layout()\n",
    "plt.xscale('log')\n",
    "plt.yscale('log')\n",
    "figname = output_folder + 'AIO_versus_MC_correlation_bc' + str(params.bc) + '.png'\n",
    "plt.savefig(figname)\n",
    "\n",
    "print(\"Correlation loss and median percentage error AIO: {}\".format(df_AIO_average['loss'].corr(df_AIO_average['med_percentage_error'])))\n",
    "print(\"Correlation loss and median percentage error MC: {}\".format(df_MC_average['loss'].corr(df_MC_average['med_percentage_error'])))\n"
   ]
  }
 ],
 "metadata": {
  "jupytext": {
   "cell_metadata_filter": "-all",
   "encoding": "# -*- coding: utf-8 -*-",
   "main_language": "python",
   "notebook_metadata_filter": "-all"
  },
  "kernelspec": {
   "display_name": "Python 3 (ipykernel)",
   "language": "python",
   "name": "python3"
  },
  "language_info": {
   "codemirror_mode": {
    "name": "ipython",
    "version": 3
   },
   "file_extension": ".py",
   "mimetype": "text/x-python",
   "name": "python",
   "nbconvert_exporter": "python",
   "pygments_lexer": "ipython3",
   "version": "3.8.10"
  }
 },
 "nbformat": 4,
 "nbformat_minor": 4
}
